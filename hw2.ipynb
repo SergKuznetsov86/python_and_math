{
 "cells": [
  {
   "cell_type": "markdown",
   "metadata": {},
   "source": [
    "# Домашнее задание № 2\n",
    "### Выполнил: Кузнецов С.И."
   ]
  },
  {
   "cell_type": "markdown",
   "metadata": {},
   "source": [
    "# Задание 1\n",
    "\n",
    "Дан список с визитами по городам и странам. Напишите код, который возвращает отфильтрованный список geo_logs, содержащий только визиты из России. Считайте, что список geo_logs легко помещается в оперативной памяти.\n",
    "\n",
    "geo_logs = [\n",
    "\n",
    "['visit1': ['Москва', 'Россия']],\n",
    "\n",
    "['visit2': ['Дели', 'Индия']],\n",
    "\n",
    "['visit3': ['Владимир', 'Россия']],\n",
    "\n",
    "['visit4': ['Лиссабон', 'Португалия']],\n",
    "\n",
    "['visit5': ['Париж', 'Франция']],\n",
    "\n",
    "['visit6': ['Лиссабон', 'Португалия']],\n",
    "\n",
    "['visit7': ['Тула', 'Россия']],\n",
    "\n",
    "['visit8': ['Тула', 'Россия']],\n",
    "\n",
    "['visit9': ['Курск', 'Россия']],\n",
    "\n",
    "['visit10': ['Архангельск', 'Россия']],\n",
    "\n",
    "]"
   ]
  },
  {
   "cell_type": "code",
   "execution_count": 1,
   "metadata": {},
   "outputs": [],
   "source": [
    "geo_logs = [\n",
    "{'visit1': ['Москва', 'Россия']},\n",
    "{'visit2': ['Дели', 'Индия']},\n",
    "{'visit3': ['Владимир', 'Россия']},\n",
    "{'visit4': ['Лиссабон', 'Португалия']},\n",
    "{'visit5': ['Париж', 'Франция']},\n",
    "{'visit6': ['Лиссабон', 'Португалия']},\n",
    "{'visit7': ['Тула', 'Россия']},\n",
    "{'visit8': ['Тула', 'Россия']},\n",
    "{'visit9': ['Курск', 'Россия']},\n",
    "{'visit10': ['Архангельск', 'Россия']},\n",
    "]"
   ]
  },
  {
   "cell_type": "code",
   "execution_count": 2,
   "metadata": {},
   "outputs": [
    {
     "data": {
      "text/plain": [
       "[{'visit1': ['Москва', 'Россия']},\n",
       " {'visit3': ['Владимир', 'Россия']},\n",
       " {'visit7': ['Тула', 'Россия']},\n",
       " {'visit8': ['Тула', 'Россия']},\n",
       " {'visit9': ['Курск', 'Россия']},\n",
       " {'visit10': ['Архангельск', 'Россия']}]"
      ]
     },
     "execution_count": 2,
     "metadata": {},
     "output_type": "execute_result"
    }
   ],
   "source": [
    "[v for v in geo_logs if 'Россия' in list(v.values())[0]]"
   ]
  },
  {
   "cell_type": "markdown",
   "metadata": {},
   "source": [
    "# Задание 2\n",
    "\n",
    "Выведите на экран все уникальные гео-ID из значений словаря ids. Т. е. список вида [213, 15, 54, 119, 98, 35]\n",
    "\n",
    "ids = {'user1': [213, 213, 213, 15, 213], 'user2': [54, 54, 119, 119, 119], 'user3': [213, 98, 98, 35]}"
   ]
  },
  {
   "cell_type": "code",
   "execution_count": 3,
   "metadata": {},
   "outputs": [],
   "source": [
    "ids = {'user1': [213, 213, 213, 15, 213], 'user2': [54, 54, 119, 119, 119], 'user3': [213, 98, 98, 35]}"
   ]
  },
  {
   "cell_type": "code",
   "execution_count": 4,
   "metadata": {},
   "outputs": [
    {
     "data": {
      "text/plain": [
       "{15, 35, 54, 98, 119, 213}"
      ]
     },
     "execution_count": 4,
     "metadata": {},
     "output_type": "execute_result"
    }
   ],
   "source": [
    "uniq = set()  # множество гео-ID \n",
    "\n",
    "for key, value in ids.items():\n",
    "    uniq.update(set(value))\n",
    "\n",
    "uniq"
   ]
  },
  {
   "cell_type": "markdown",
   "metadata": {},
   "source": [
    "# Задание 3\n",
    "\n",
    "Список поисковых запросов. Получить распределение количества слов в них. Т. е. поисковых запросов из одного слова 5%, из двух - 7%, из трех - 3% итд.\n",
    "\n",
    "queries = [\n",
    "\n",
    "'смотреть сериалы онлайн',\n",
    "\n",
    "'новости спорта',\n",
    "\n",
    "'афиша кино',\n",
    "\n",
    "'курс доллара',\n",
    "\n",
    "'сериалы этим летом',\n",
    "\n",
    "'курс по питону',\n",
    "\n",
    "'сериалы про спорт',\n",
    "\n",
    "]"
   ]
  },
  {
   "cell_type": "code",
   "execution_count": 5,
   "metadata": {},
   "outputs": [],
   "source": [
    "queries = [\n",
    "'смотреть сериалы онлайн',\n",
    "'новости спорта',\n",
    "'афиша кино',\n",
    "'курс доллара',\n",
    "'сериалы этим летом',\n",
    "'курс по питону',\n",
    "'сериалы про спорт',\n",
    "]"
   ]
  },
  {
   "cell_type": "code",
   "execution_count": 6,
   "metadata": {},
   "outputs": [
    {
     "name": "stdout",
     "output_type": "stream",
     "text": [
      "Доля запросов из 3 слов(а) составляет 57%.\n",
      "Доля запросов из 2 слов(а) составляет 43%.\n"
     ]
    }
   ],
   "source": [
    "# Создаем словарь {Количество слов в запросе: Количество запросов с таким количеством слов}\n",
    "words_in_query = dict()\n",
    "for q in queries:\n",
    "    num_of_words = len(q.split(' '))\n",
    "    words_in_query.setdefault(num_of_words, 0)\n",
    "    words_in_query[num_of_words] += 1\n",
    "\n",
    "# Находим общее количество запросов\n",
    "num_of_queries = sum(words_in_query.values())\n",
    "\n",
    "# Выводим результат\n",
    "for num_of_words, num_of_query in words_in_query.items():\n",
    "    print('Доля запросов из {} слов(а) составляет {:.0%}.'.format(\n",
    "        num_of_words, float(num_of_query) / num_of_queries)\n",
    "         )"
   ]
  },
  {
   "cell_type": "markdown",
   "metadata": {},
   "source": [
    "# Задание 4 *\n",
    "\n",
    "Дана статистика рекламных каналов по объемам продаж. Напишите скрипт, который возвращает название канала с максимальным объемом.\n",
    "\n",
    "Т. е. в данном примере скрипт должен возвращать 'yandex'.\n",
    "\n",
    "stats = {'facebook': 55, 'yandex': 120, 'vk': 115, 'google': 99, 'email': 42, 'ok': 98}"
   ]
  },
  {
   "cell_type": "code",
   "execution_count": 7,
   "metadata": {},
   "outputs": [],
   "source": [
    "stats = {'facebook': 55, 'yandex': 120, 'vk': 115, 'google': 99, 'email': 42, 'ok': 98}"
   ]
  },
  {
   "cell_type": "code",
   "execution_count": 8,
   "metadata": {},
   "outputs": [
    {
     "data": {
      "text/plain": [
       "'yandex'"
      ]
     },
     "execution_count": 8,
     "metadata": {},
     "output_type": "execute_result"
    }
   ],
   "source": [
    "sorted(stats.items(), key = lambda x: x[1], reverse = True)[0][0]"
   ]
  },
  {
   "cell_type": "markdown",
   "metadata": {},
   "source": [
    "# Задание 5 *\n",
    "\n",
    "Дан поток логов по количеству просмотренных страниц для каждого пользователя. Список отсортирован по ID пользователя. Вам необходимо написать алгоритм, который считает среднее значение просмотров на пользователя. Т. е. надо посчитать отношение суммы всех просмотров к количеству уникальных пользователей. Учтите, что весь список stream не помещается в оперативную память, т. е. его нужно обрабатывать поэлементно в цикле.\n",
    "\n",
    "stream = [\n",
    "\n",
    "'2018-01-01,user1,3',\n",
    "\n",
    "'2018-01-07,user1,4',\n",
    "\n",
    "'2018-03-29,user1,1',\n",
    "\n",
    "'2018-04-04,user1,13',\n",
    "\n",
    "'2018-01-05,user2,7',\n",
    "\n",
    "'2018-06-14,user3,4',\n",
    "\n",
    "'2018-07-02,user3,10',\n",
    "\n",
    "'2018-03-21,user4,19',\n",
    "\n",
    "'2018-03-22,user4,4',\n",
    "\n",
    "'2018-04-22,user4,8',\n",
    "\n",
    "'2018-05-03,user4,9',\n",
    "\n",
    "'2018-05-11,user4,11',\n",
    "\n",
    "]"
   ]
  },
  {
   "cell_type": "code",
   "execution_count": 9,
   "metadata": {},
   "outputs": [],
   "source": [
    "stream = [\n",
    "'2018-01-01,user1,3',\n",
    "'2018-01-07,user1,4',\n",
    "'2018-03-29,user1,1',\n",
    "'2018-04-04,user1,13',\n",
    "'2018-01-05,user2,7',\n",
    "'2018-06-14,user3,4',\n",
    "'2018-07-02,user3,10',\n",
    "'2018-03-21,user4,19',\n",
    "'2018-03-22,user4,4',\n",
    "'2018-04-22,user4,8',\n",
    "'2018-05-03,user4,9',\n",
    "'2018-05-11,user4,11',\n",
    "]"
   ]
  },
  {
   "cell_type": "code",
   "execution_count": 10,
   "metadata": {},
   "outputs": [
    {
     "name": "stdout",
     "output_type": "stream",
     "text": [
      "Среднее число просмотров на пользователя: 3.00\n"
     ]
    }
   ],
   "source": [
    "users = set() # Множество пользователей\n",
    "\n",
    "num_of_visits = 0 # Счетчик количества посещений\n",
    "\n",
    "for visit in stream:\n",
    "    users.add(visit.split(',')[1])\n",
    "    num_of_visits += 1\n",
    "\n",
    "print('Среднее число просмотров на пользователя: {:.2f}'.format(num_of_visits / len(users)))"
   ]
  },
  {
   "cell_type": "markdown",
   "metadata": {},
   "source": [
    "# Задание 6 *\n",
    "\n",
    "Дана статистика рекламных кампаний по дням. Напишите алгоритм, который по паре дата-кампания ищет значение численного столбца. Т. е. для даты '2018-01-01' и 'google' нужно получить число 25. Считайте, что все комбинации дата-кампания уникальны, а список stats легко помещается в оперативной памяти.\n",
    "\n",
    "stats = [\n",
    "\n",
    "['2018-01-01', 'google', 25],\n",
    "\n",
    "['2018-01-01', 'yandex', 65],\n",
    "\n",
    "['2018-01-01', 'market', 89],\n",
    "\n",
    "['2018-01-02', 'google', 574],\n",
    "\n",
    "['2018-01-02', 'yandex', 249],\n",
    "\n",
    "['2018-01-02', 'market', 994],\n",
    "\n",
    "['2018-01-03', 'google', 1843],\n",
    "\n",
    "['2018-01-03', 'yandex', 1327],\n",
    "\n",
    "['2018-01-03', 'market', 1764],\n",
    "\n",
    "]"
   ]
  },
  {
   "cell_type": "code",
   "execution_count": 11,
   "metadata": {},
   "outputs": [],
   "source": [
    "stats = [\n",
    "['2018-01-01', 'google', 25],\n",
    "['2018-01-01', 'yandex', 65],\n",
    "['2018-01-01', 'market', 89],\n",
    "['2018-01-02', 'google', 574],\n",
    "['2018-01-02', 'yandex', 249],\n",
    "['2018-01-02', 'market', 994],\n",
    "['2018-01-03', 'google', 1843],\n",
    "['2018-01-03', 'yandex', 1327],\n",
    "['2018-01-03', 'market', 1764],\n",
    "]"
   ]
  },
  {
   "cell_type": "code",
   "execution_count": 12,
   "metadata": {},
   "outputs": [
    {
     "data": {
      "text/plain": [
       "25"
      ]
     },
     "execution_count": 12,
     "metadata": {},
     "output_type": "execute_result"
    }
   ],
   "source": [
    "# Пара дата-кампания, по которой ищем значение\n",
    "target_campain = {'date': '2018-01-01', 'campain': 'google'}\n",
    "\n",
    "# Преобразуем список кампаний в список словарей\n",
    "campains = [{'date': s[0], 'campain': s[1], 'value': s[2]} for s in stats]\n",
    "\n",
    "# Ищем значение по паре\n",
    "[c['value'] for c in campains \n",
    "    if c['date'] == target_campain['date'] and c['campain'] == target_campain['campain']][0]"
   ]
  },
  {
   "cell_type": "markdown",
   "metadata": {},
   "source": [
    "# Бонусный вариант *\n",
    "\n",
    "Рассмотрите обобщенный вариант этой задачи: имеется таблица из n столбцов. Первые n-1 столбцов - признаки (комбинации этих признаков в таблице уникальные). Последний столбец - значение. Вам необходимо по набору n-1 признаков найти соответствующую строчку в таблице и вернуть значение из правого столбца. Учтите, что исходная таблица может быть любого размера.\n",
    "\n",
    "Одно из применений задачи - объединение двух таблиц по n столбцов, одна из которых помещается в оперативной памяти. Например, 7 столбцов по 1 и 10 миллионов строк."
   ]
  },
  {
   "cell_type": "code",
   "execution_count": 13,
   "metadata": {},
   "outputs": [],
   "source": [
    "# Исходная таблица\n",
    "stats = [\n",
    "['2018-01-01', 'google', 25],\n",
    "['2018-01-01', 'yandex', 65],\n",
    "['2018-01-01', 'market', 89],\n",
    "['2018-01-02', 'google', 574],\n",
    "['2018-01-02', 'yandex', 249],\n",
    "['2018-01-02', 'market', 994],\n",
    "['2018-01-03', 'google', 1843],\n",
    "['2018-01-03', 'yandex', 1327],\n",
    "['2018-01-03', 'market', 1764],\n",
    "]\n",
    "\n",
    "# Признаки, по которым ищем значение\n",
    "target_campain = ['2018-01-02', 'yandex']"
   ]
  },
  {
   "cell_type": "code",
   "execution_count": 14,
   "metadata": {},
   "outputs": [
    {
     "name": "stdout",
     "output_type": "stream",
     "text": [
      "Value = 249\n"
     ]
    }
   ],
   "source": [
    "keys_length = len(target_campain)  # Количество признаков\n",
    "\n",
    "for s in stats:\n",
    "    if sum([1 for i, j in zip(s[:-1], target_campain) if i == j]) == keys_length:  # Условие совпадения строк\n",
    "        print('Value = {}'.format(s[-1]))\n",
    "        break"
   ]
  }
 ],
 "metadata": {
  "kernelspec": {
   "display_name": "Python 3",
   "language": "python",
   "name": "python3"
  },
  "language_info": {
   "codemirror_mode": {
    "name": "ipython",
    "version": 3
   },
   "file_extension": ".py",
   "mimetype": "text/x-python",
   "name": "python",
   "nbconvert_exporter": "python",
   "pygments_lexer": "ipython3",
   "version": "3.7.0"
  }
 },
 "nbformat": 4,
 "nbformat_minor": 2
}
