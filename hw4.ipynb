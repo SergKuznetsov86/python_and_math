{
 "cells": [
  {
   "cell_type": "markdown",
   "metadata": {},
   "source": [
    "# Домашнее задание № 4\n",
    "### Выполнил: Кузнецов С.И."
   ]
  },
  {
   "cell_type": "markdown",
   "metadata": {},
   "source": [
    "# Задание 1\n",
    "Напишите функцию date_range, которая возвращает список дней между датами start_date и end_date. Даты должны вводиться в формате YYYY-MM-DD."
   ]
  },
  {
   "cell_type": "code",
   "execution_count": 1,
   "metadata": {},
   "outputs": [],
   "source": [
    "from datetime import datetime, timedelta\n",
    "\n",
    "def is_date_valid(input_date):\n",
    "    \"\"\"\n",
    "    Проверяет, является ли аргумент input_date строковым представлением даты\n",
    "    в формате YYYY-MM-DD.\n",
    "    \n",
    "    Возвращает True, если это так и False в противном случае.\n",
    "    \n",
    "    Примеры:\n",
    "    is_date_valid('2017-01-01')\n",
    "    # => True\n",
    "    \n",
    "    is_date_valid('01.01.2017')\n",
    "    # => False\n",
    "    \"\"\"\n",
    "    try:\n",
    "        _ = datetime.strptime(input_date, '%Y-%m-%d')\n",
    "        return True\n",
    "    except:\n",
    "        return False\n",
    "\n",
    "def date_range(start_date, end_date):\n",
    "    \"\"\"\n",
    "    Возвращает список дней между датами start_date и end_date в виде списка.\n",
    "    \n",
    "    start_date - начальная дата в формате \"YYYY-MM-DD\", тип str;\n",
    "    end_date - конечная датав формате \"YYYY-MM-DD\", тип str.\n",
    "    \n",
    "    Если даты введены некорректно, возвращает None\n",
    "    \n",
    "    Пример:\n",
    "    date_range('2018-01-01', '2018-01-03')\n",
    "    # => ['2018-01-01', '2018-01-02', '2018-01-03']\n",
    "    \n",
    "    \"\"\"\n",
    "    if is_date_valid(start_date) and is_date_valid(end_date): # Проверка вадидности дат\n",
    "        \n",
    "        # Формирование списка дат\n",
    "        current_date = datetime.strptime(start_date, '%Y-%m-%d')\n",
    "        result = list()   # Результат\n",
    "        \n",
    "        while current_date.strftime('%Y-%m-%d') <= end_date:\n",
    "            result.append(current_date.strftime('%Y-%m-%d'))\n",
    "            current_date += timedelta(days = 1)\n",
    "        return result\n",
    "    \n",
    "    return None"
   ]
  },
  {
   "cell_type": "code",
   "execution_count": 2,
   "metadata": {},
   "outputs": [
    {
     "data": {
      "text/plain": [
       "['2016-02-23',\n",
       " '2016-02-24',\n",
       " '2016-02-25',\n",
       " '2016-02-26',\n",
       " '2016-02-27',\n",
       " '2016-02-28',\n",
       " '2016-02-29',\n",
       " '2016-03-01',\n",
       " '2016-03-02',\n",
       " '2016-03-03',\n",
       " '2016-03-04',\n",
       " '2016-03-05',\n",
       " '2016-03-06',\n",
       " '2016-03-07',\n",
       " '2016-03-08']"
      ]
     },
     "execution_count": 2,
     "metadata": {},
     "output_type": "execute_result"
    }
   ],
   "source": [
    "date_range('2016-02-23', '2016-03-08')"
   ]
  },
  {
   "cell_type": "markdown",
   "metadata": {},
   "source": [
    "# Задание 2\n",
    "Дополните функцию из первого задания проверкой на корректность дат. В случае неверного формата или если start_date > end_date должен возвращаться пустой список."
   ]
  },
  {
   "cell_type": "code",
   "execution_count": 3,
   "metadata": {},
   "outputs": [],
   "source": [
    "from datetime import datetime, timedelta\n",
    "\n",
    "def is_date_valid(input_date):\n",
    "    \"\"\"\n",
    "    Функция из задания 1.\n",
    "    \n",
    "    Проверяет, является ли аргумент input_date строковым представлением даты\n",
    "    в формате YYYY-MM-DD.\n",
    "    \n",
    "    Возвращает True, если это так и False в противном случае.\n",
    "    \n",
    "    Примеры:\n",
    "    is_date_valid('2017-01-01')\n",
    "    # => True\n",
    "    \n",
    "    is_date_valid('01.01.2017')\n",
    "    # => False\n",
    "    \"\"\"\n",
    "    try:\n",
    "        _ = datetime.strptime(input_date, '%Y-%m-%d')\n",
    "        return True\n",
    "    except:\n",
    "        return False\n",
    "\n",
    "def date_range(start_date, end_date):\n",
    "    \"\"\"\n",
    "    Возвращает список дней между датами start_date и end_date в виде списка.\n",
    "    Если даты введены некорректно или start_date > end_date, возвращает пустой список.\n",
    "    \n",
    "    start_date - начальная дата в формате \"YYYY-MM-DD\", тип str;\n",
    "    end_date - конечная датав формате \"YYYY-MM-DD\", тип str.\n",
    "    \n",
    "    Примеры:\n",
    "    date_range('2018-01-01', '2018-01-03')\n",
    "    # => ['2018-01-01', '2018-01-02', '2018-01-03']\n",
    "    \n",
    "    date_range('2016-04-23', '2016-03-08')\n",
    "    # => []\n",
    "    \"\"\"\n",
    "    # Проверка корректности дат\n",
    "    result = list()   # Результат\n",
    "    \n",
    "    if is_date_valid(start_date) and is_date_valid(end_date) and start_date <= end_date:\n",
    "\n",
    "        # Формирование списка дат\n",
    "        current_date = datetime.strptime(start_date, '%Y-%m-%d')\n",
    "        \n",
    "        while current_date.strftime('%Y-%m-%d') <= end_date:\n",
    "            result.append(current_date.strftime('%Y-%m-%d'))\n",
    "            current_date += timedelta(days = 1)\n",
    "        return result\n",
    "        \n",
    "    return result"
   ]
  },
  {
   "cell_type": "code",
   "execution_count": 4,
   "metadata": {},
   "outputs": [
    {
     "data": {
      "text/plain": [
       "[]"
      ]
     },
     "execution_count": 4,
     "metadata": {},
     "output_type": "execute_result"
    }
   ],
   "source": [
    "date_range('2016-04-23', '2016-03-08')"
   ]
  },
  {
   "cell_type": "markdown",
   "metadata": {},
   "source": [
    "# Задание 3\n",
    "Дан поток дат в формате YYYY-MM-DD, в которых встречаются некорректные значения:\n",
    "\n",
    "stream = ['2018-04-02', '2018-02-29', '2018-19-02']\n",
    "\n",
    "Напишите функцию, которая проверяет эти даты на корректность. Т. е. для каждой даты возвращает True (дата корректна) или False (некорректная дата). "
   ]
  },
  {
   "cell_type": "code",
   "execution_count": 5,
   "metadata": {},
   "outputs": [],
   "source": [
    "from datetime import datetime, timedelta\n",
    "\n",
    "def is_date_valid(input_date):\n",
    "    \"\"\"\n",
    "    Функция из задания 1.\n",
    "    \n",
    "    Проверяет, является ли аргумент input_date строковым представлением даты\n",
    "    в формате YYYY-MM-DD.\n",
    "    \n",
    "    Возвращает True, если это так и False в противном случае.\n",
    "    \n",
    "    Примеры:\n",
    "    is_date_valid('2017-01-01')\n",
    "    # => True\n",
    "    \n",
    "    is_date_valid('01.01.2017')\n",
    "    # => False\n",
    "    \"\"\"\n",
    "    try:\n",
    "        _ = datetime.strptime(input_date, '%Y-%m-%d')\n",
    "        return True\n",
    "    except:\n",
    "        return False\n",
    "\n",
    "def date_stream_validate(date_stream):\n",
    "    \"\"\"\n",
    "    Проверяет список дат date_stream на корректность.\n",
    "    \n",
    "    date_stream - список строк, в котором могут присутствовать как корректные,\n",
    "    так и некорректные записи даты в формате YYYY-MM-DD.\n",
    "    \n",
    "    Функция возвращает список, длина которого равна длине date_stream,\n",
    "    а элементы которого равны True, если соответствующий элемент date_stream\n",
    "    является корректной записью даты, или False в противном случае.\n",
    "    \n",
    "    Пример:\n",
    "    \n",
    "    date_stream_validate(['2017-12-30', '2017-12-31', '2017-12-32'])\n",
    "    # => [True, False, False]\n",
    "    \"\"\"\n",
    "    return [is_date_valid(s) for s in stream]"
   ]
  },
  {
   "cell_type": "code",
   "execution_count": 6,
   "metadata": {},
   "outputs": [
    {
     "data": {
      "text/plain": [
       "[True, False, False]"
      ]
     },
     "execution_count": 6,
     "metadata": {},
     "output_type": "execute_result"
    }
   ],
   "source": [
    "stream = ['2018-04-02', '2018-02-29', '2018-19-02']\n",
    "\n",
    "date_stream_validate(stream)"
   ]
  },
  {
   "cell_type": "markdown",
   "metadata": {},
   "source": [
    "# Задание 4\n",
    "Напишите функцию, которая возвращает список дат с 1 по вчерашний день текущего месяца. Если дан 1 день месяца, то возвращается список дней прошлого месяца."
   ]
  },
  {
   "cell_type": "code",
   "execution_count": 7,
   "metadata": {},
   "outputs": [],
   "source": [
    "from datetime import datetime, timedelta\n",
    "\n",
    "def is_date_valid(input_date):\n",
    "    \"\"\"\n",
    "    Функция из задания 1.\n",
    "    \n",
    "    Проверяет, является ли аргумент input_date строковым представлением даты\n",
    "    в формате YYYY-MM-DD.\n",
    "    \n",
    "    Возвращает True, если это так и False в противном случае.\n",
    "    \n",
    "    Примеры:\n",
    "    is_date_valid('2017-01-01')\n",
    "    # => True\n",
    "    \n",
    "    is_date_valid('01.01.2017')\n",
    "    # => False\n",
    "    \"\"\"\n",
    "    try:\n",
    "        _ = datetime.strptime(input_date, '%Y-%m-%d')\n",
    "        return True\n",
    "    except:\n",
    "        return False\n",
    "\n",
    "def date_range(start_date, end_date):\n",
    "    \"\"\"\n",
    "    Функция из задания 2.\n",
    "    Возвращает список дней между датами start_date и end_date в виде списка.\n",
    "    Если даты введены некорректно или start_date > end_date, возвращает пустой список.\n",
    "    \n",
    "    start_date - начальная дата в формате \"YYYY-MM-DD\", тип str;\n",
    "    end_date - конечная датав формате \"YYYY-MM-DD\", тип str.\n",
    "    \n",
    "    Примеры:\n",
    "    date_range('2018-01-01', '2018-01-03')\n",
    "    # => ['2018-01-01', '2018-01-02', '2018-01-03']\n",
    "    \n",
    "    date_range('2016-04-23', '2016-03-08')\n",
    "    # => []\n",
    "    \"\"\"\n",
    "    # Проверка корректности дат\n",
    "    result = list()   # Результат\n",
    "    \n",
    "    if is_date_valid(start_date) and is_date_valid(end_date) and start_date <= end_date:\n",
    "\n",
    "        # Формирование списка дат\n",
    "        current_date = datetime.strptime(start_date, '%Y-%m-%d')\n",
    "        \n",
    "        while current_date.strftime('%Y-%m-%d') <= end_date:\n",
    "            result.append(current_date.strftime('%Y-%m-%d'))\n",
    "            current_date += timedelta(days = 1)\n",
    "        return result\n",
    "        \n",
    "    return result\n",
    "\n",
    "def days_of_month(input_date):\n",
    "    \"\"\"\n",
    "    Возвращает список дат с 1 по вчерашний день текущего месяца в виде списка строк.\n",
    "    Если дан 1 день месяца, то возвращается список дней прошлого месяца.\n",
    "    \n",
    "    input_date - текущая дата в формате \"YYYY-MM-DD\", тип str;\n",
    "    \n",
    "    Все даты имеют формат YYYY-MM-DD.\n",
    "    Пример:\n",
    "    \n",
    "    days_of_month('2012-01-03')\n",
    "    # => ['2012-01-01', '2012-01-02']\n",
    "    \"\"\"\n",
    "    if is_date_valid(input_date):\n",
    "    \n",
    "        yesterday = datetime.strptime(input_date, '%Y-%m-%d') - timedelta(days = 1)\n",
    "        first_day_of_month = yesterday.strftime('%Y-%m-01')\n",
    "        return date_range(start_date = first_day_of_month, end_date = yesterday.strftime('%Y-%m-%d'))\n",
    "    \n",
    "    print('Error! Аргумент input_date задан некорректно')\n",
    "    return None"
   ]
  },
  {
   "cell_type": "code",
   "execution_count": 8,
   "metadata": {},
   "outputs": [
    {
     "data": {
      "text/plain": [
       "['2011-12-01',\n",
       " '2011-12-02',\n",
       " '2011-12-03',\n",
       " '2011-12-04',\n",
       " '2011-12-05',\n",
       " '2011-12-06',\n",
       " '2011-12-07',\n",
       " '2011-12-08',\n",
       " '2011-12-09',\n",
       " '2011-12-10',\n",
       " '2011-12-11',\n",
       " '2011-12-12',\n",
       " '2011-12-13',\n",
       " '2011-12-14',\n",
       " '2011-12-15',\n",
       " '2011-12-16',\n",
       " '2011-12-17',\n",
       " '2011-12-18',\n",
       " '2011-12-19',\n",
       " '2011-12-20',\n",
       " '2011-12-21',\n",
       " '2011-12-22',\n",
       " '2011-12-23',\n",
       " '2011-12-24',\n",
       " '2011-12-25',\n",
       " '2011-12-26',\n",
       " '2011-12-27',\n",
       " '2011-12-28',\n",
       " '2011-12-29',\n",
       " '2011-12-30',\n",
       " '2011-12-31']"
      ]
     },
     "execution_count": 8,
     "metadata": {},
     "output_type": "execute_result"
    }
   ],
   "source": [
    "days_of_month('2012-01-01')"
   ]
  },
  {
   "cell_type": "markdown",
   "metadata": {},
   "source": [
    "# Задание 5\n",
    "Напишите функцию, которая возвращает точную дату в формате YYYY-MM-DD по фразе:\n",
    "1. 'today' - сегодняшнюю дату\n",
    "2. 'last monday' -  прошлый понедельник\n",
    "3. 'last day' - Последний день текущего месяца"
   ]
  },
  {
   "cell_type": "code",
   "execution_count": 9,
   "metadata": {},
   "outputs": [],
   "source": [
    "from datetime import datetime, timedelta\n",
    "\n",
    "def date_for_request(request, current_date = None):\n",
    "    \"\"\"\n",
    "    Возвращает точную дату в формате YYYY-MM-DD по фразе:\n",
    "      1. 'today' - сегодняшнюю дату\n",
    "      2. 'last monday' - прошлый понедельник\n",
    "      3. 'last day' - Последний день текущего месяца\n",
    "      \n",
    "    request - фраза запроса, по которому возвращается дата.\n",
    "    \n",
    "    current_date - текущая дата. Если current_date = None (по умолчанию),\n",
    "    то в качестве текущей принимается сегодняшняя дата.\n",
    "    \n",
    "    Примеры:\n",
    "    \n",
    "    date_for_request('today', '2018-01-01')\n",
    "    # => '2018-01-01'\n",
    "    \n",
    "    date_for_request('last monday', '2018-01-01')\n",
    "    # => '2017-12-25'\n",
    "    \n",
    "    date_for_request('last day', '2016-02-02')\n",
    "    # => '2016-02-29'\n",
    "    \"\"\"\n",
    "    \n",
    "    result = None   # Результат\n",
    "    \n",
    "    # Проверка даты на корректность\n",
    "    if not current_date:\n",
    "        today = datetime.now()\n",
    "    else:\n",
    "        try:\n",
    "            today = datetime.strptime(current_date, '%Y-%m-%d')\n",
    "        except:\n",
    "            print('Error! Некорректная дата')\n",
    "            return result\n",
    "    \n",
    "    # Запрос 'today'\n",
    "    if request.lower() == 'today':\n",
    "        result = today\n",
    "        \n",
    "    # Запрос 'last monday'\n",
    "    if request.lower() == 'last monday':\n",
    "        if today.weekday() == 0:\n",
    "            result = today - timedelta(days = 7)\n",
    "        else:\n",
    "            result = today - timedelta(days = today.weekday())\n",
    "    \n",
    "    # Запрос 'last day'\n",
    "    if request.lower() == 'last day':\n",
    "        first_day_in_next_month = datetime(today.year + today.month // 12, today.month % 12 + 1, 1)\n",
    "        result = first_day_in_next_month - timedelta(days = 1)\n",
    "        \n",
    "    if not result:\n",
    "        print('Error! Некорректный запрос')\n",
    "        return result\n",
    "    \n",
    "    return result.strftime('%Y-%m-%d')\n",
    "    "
   ]
  },
  {
   "cell_type": "code",
   "execution_count": 10,
   "metadata": {},
   "outputs": [
    {
     "name": "stdout",
     "output_type": "stream",
     "text": [
      "Сегодняшняя дата: 2018-12-16\n",
      "Прошлый понедельник: 2018-12-10\n",
      "Последний день текущего месяца: 2018-12-31\n"
     ]
    }
   ],
   "source": [
    "print('Сегодняшняя дата: {}'.format(date_for_request('today')))\n",
    "print('Прошлый понедельник: {}'.format(date_for_request('last monday')))\n",
    "print('Последний день текущего месяца: {}'.format(date_for_request('last day')))"
   ]
  },
  {
   "cell_type": "markdown",
   "metadata": {},
   "source": [
    "# Задание 6\n",
    "Напишите функцию, которая разбивает на недели с понедельника по воскресенье интервал дат между start_date и end_date. Считайте, что входные данные всегда корректны. В ответ должны входить только полные недели."
   ]
  },
  {
   "cell_type": "code",
   "execution_count": 11,
   "metadata": {},
   "outputs": [],
   "source": [
    "from datetime import datetime, timedelta\n",
    "\n",
    "def date_to_weeks(start_date, end_date):\n",
    "    \"\"\"\n",
    "    Разбивает на недели с понедельника по воскресенье интервал дат между start_date и end_date.\n",
    "    Возвращает список интервалов, каждый из которых соответствует неделе.\n",
    "    В итоговый список попадают только полные недели.\n",
    "    \n",
    "    Пример:\n",
    "    \n",
    "    date_to_weeks(start_date = '2018-11-01', end_date = '2018-12-15')\n",
    "    # =>\n",
    "        [['2018-11-05', '2018-11-11'],\n",
    "         ['2018-11-12', '2018-11-18'],\n",
    "         ['2018-11-19', '2018-11-25'],\n",
    "         ['2018-11-26', '2018-12-02'],\n",
    "         ['2018-12-03', '2018-12-09']]\n",
    "    \"\"\"\n",
    "    result = list()\n",
    "    current_date = datetime.strptime(start_date, '%Y-%m-%d')\n",
    "\n",
    "    if current_date.weekday() == 0:\n",
    "        current_monday = current_date\n",
    "    else:\n",
    "        current_monday = current_date + timedelta(days = 7 - current_date.weekday())\n",
    "\n",
    "    current_sunday = current_monday + timedelta(days = 6)\n",
    "\n",
    "    while current_sunday.strftime('%Y-%m-%d') <= end_date:\n",
    "        result.append([current_monday.strftime('%Y-%m-%d'), current_sunday.strftime('%Y-%m-%d')])\n",
    "        current_monday += timedelta(days = 7)\n",
    "        current_sunday += timedelta(days = 7)\n",
    "\n",
    "    return result"
   ]
  },
  {
   "cell_type": "code",
   "execution_count": 12,
   "metadata": {},
   "outputs": [
    {
     "data": {
      "text/plain": [
       "[['2018-11-05', '2018-11-11'],\n",
       " ['2018-11-12', '2018-11-18'],\n",
       " ['2018-11-19', '2018-11-25'],\n",
       " ['2018-11-26', '2018-12-02'],\n",
       " ['2018-12-03', '2018-12-09']]"
      ]
     },
     "execution_count": 12,
     "metadata": {},
     "output_type": "execute_result"
    }
   ],
   "source": [
    "date_to_weeks(start_date = '2018-11-01', end_date = '2018-12-15')"
   ]
  }
 ],
 "metadata": {
  "kernelspec": {
   "display_name": "Python 3",
   "language": "python",
   "name": "python3"
  },
  "language_info": {
   "codemirror_mode": {
    "name": "ipython",
    "version": 3
   },
   "file_extension": ".py",
   "mimetype": "text/x-python",
   "name": "python",
   "nbconvert_exporter": "python",
   "pygments_lexer": "ipython3",
   "version": "3.7.0"
  }
 },
 "nbformat": 4,
 "nbformat_minor": 2
}
