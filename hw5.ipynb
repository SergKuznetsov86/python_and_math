{
 "cells": [
  {
   "cell_type": "markdown",
   "metadata": {},
   "source": [
    "# Домашнее задание № 5\n",
    "### Выполнил: Кузнецов С.И."
   ]
  },
  {
   "cell_type": "markdown",
   "metadata": {},
   "source": [
    "# Задание 1\n",
    "Создайте numpy array с элементами от числа N до 0 (например, для N = 10 это будет array([9, 8, 7, 6, 5, 4, 3, 2, 1, 0]))."
   ]
  },
  {
   "cell_type": "code",
   "execution_count": 1,
   "metadata": {},
   "outputs": [],
   "source": [
    "import numpy as np"
   ]
  },
  {
   "cell_type": "code",
   "execution_count": 2,
   "metadata": {},
   "outputs": [
    {
     "data": {
      "text/plain": [
       "array([9, 8, 7, 6, 5, 4, 3, 2, 1, 0])"
      ]
     },
     "execution_count": 2,
     "metadata": {},
     "output_type": "execute_result"
    }
   ],
   "source": [
    "N = 10  # Исходное число\n",
    "result_array = np.arange(N - 1, -1, -1)\n",
    "result_array"
   ]
  },
  {
   "cell_type": "markdown",
   "metadata": {},
   "source": [
    "# Задание 2\n",
    "Создайте диагональную матрицу с элементами от N до 0. Посчитайте сумму ее значений на диагонали."
   ]
  },
  {
   "cell_type": "code",
   "execution_count": 3,
   "metadata": {},
   "outputs": [
    {
     "name": "stdout",
     "output_type": "stream",
     "text": [
      "[[10  0  0  0  0  0  0  0  0  0  0]\n",
      " [ 0  9  0  0  0  0  0  0  0  0  0]\n",
      " [ 0  0  8  0  0  0  0  0  0  0  0]\n",
      " [ 0  0  0  7  0  0  0  0  0  0  0]\n",
      " [ 0  0  0  0  6  0  0  0  0  0  0]\n",
      " [ 0  0  0  0  0  5  0  0  0  0  0]\n",
      " [ 0  0  0  0  0  0  4  0  0  0  0]\n",
      " [ 0  0  0  0  0  0  0  3  0  0  0]\n",
      " [ 0  0  0  0  0  0  0  0  2  0  0]\n",
      " [ 0  0  0  0  0  0  0  0  0  1  0]\n",
      " [ 0  0  0  0  0  0  0  0  0  0  0]]\n",
      "Сумма диагональных элементов равна 55\n"
     ]
    }
   ],
   "source": [
    "N = 10  # Исходное число\n",
    "\n",
    "# Строим диагональную матрицу\n",
    "diag_matrix = np.diag(np.arange(N, -1, -1)) \n",
    "print(diag_matrix)\n",
    "\n",
    "# Вычисление суммы диагональных элементов\n",
    "print('Сумма диагональных элементов равна {}'.format(diag_matrix.trace()))"
   ]
  },
  {
   "cell_type": "markdown",
   "metadata": {},
   "source": [
    "# Задание 3\n",
    "Скачайте с сайта https://grouplens.org/datasets/movielens/ датасет любого размера. Определите какому фильму было выставлено больше всего оценок 5.0."
   ]
  },
  {
   "cell_type": "code",
   "execution_count": 4,
   "metadata": {},
   "outputs": [],
   "source": [
    "import pandas as pd"
   ]
  },
  {
   "cell_type": "code",
   "execution_count": 5,
   "metadata": {},
   "outputs": [
    {
     "name": "stdout",
     "output_type": "stream",
     "text": [
      "Больше всего оценок 5.0 было выставлено фильму c movieid = 318\n"
     ]
    }
   ],
   "source": [
    "# Скачиваем датасет ml-20m\n",
    "ratings = pd.read_csv('ml-20m/ratings.csv', \n",
    "                      dtype = {'userId': np.int64, 'movieId': np.int64, 'rating': object, 'timestamp': np.int64}\n",
    "                     )\n",
    "\n",
    "# Находим фильм с максимальным числом оценок \"5.0\"\n",
    "best_film = ratings[ratings.rating == '5.0'].movieId.value_counts().idxmax()\n",
    "print('Больше всего оценок 5.0 было выставлено фильму c movieid = {}'.format(best_film))"
   ]
  },
  {
   "cell_type": "markdown",
   "metadata": {},
   "source": [
    "# Задание 4\n",
    "По данным файла power.csv посчитайте суммарное потребление стран Прибалтики (Латвия, Литва и Эстония) категорий 4, 12 и 21 за период с 2005 по 2010 года. Не учитывайте в расчетах отрицательные значения quantity."
   ]
  },
  {
   "cell_type": "code",
   "execution_count": 6,
   "metadata": {},
   "outputs": [
    {
     "name": "stdout",
     "output_type": "stream",
     "text": [
      "Суммарное потребление энергии равно 201719.0\n"
     ]
    }
   ],
   "source": [
    "# Скачиваем датасет\n",
    "power = pd.read_csv('power.csv')\n",
    "\n",
    "# Вычисляем суммарное потребление энергии\n",
    "total_quantity = power.quantity[\n",
    "    ((power['country'] == 'Latvia') | (power['country'] == 'Lithuania') | (power['country'] == 'Estonia')) &\n",
    "    ((power['category'] == 4) | (power['category'] == 12) | (power['category'] == 21)) &\n",
    "    (power['year'] >= 2005) & (power['year'] < 2010) &\n",
    "    (power['quantity'] > 0)\n",
    "].sum()\n",
    "\n",
    "print('Суммарное потребление энергии равно {}'.format(total_quantity))"
   ]
  },
  {
   "cell_type": "markdown",
   "metadata": {},
   "source": [
    "# Задание 5\n",
    "Решите систему уравнений:\n",
    "\n",
    "4x + 2y + z = 4\n",
    "\n",
    "x + 3y = 12\n",
    "\n",
    "5y + 4z = -3"
   ]
  },
  {
   "cell_type": "code",
   "execution_count": 7,
   "metadata": {},
   "outputs": [
    {
     "name": "stdout",
     "output_type": "stream",
     "text": [
      "x = 0.4666666666666668\n",
      "y = 3.844444444444444\n",
      "z = -5.555555555555555\n",
      "Решение верно\n"
     ]
    }
   ],
   "source": [
    "from numpy import linalg \n",
    "\n",
    "# Представляем систему в матричном виде: A * X = b\n",
    "A = np.array([[4, 2, 1], [1, 3, 0], [0, 5, 4]])\n",
    "b = np.array([4, 12, -3])\n",
    "X = linalg.solve(A, b)\n",
    "\n",
    "# Выводим решение\n",
    "for var, val in zip(['x', 'y', 'z'], X):\n",
    "    print('{} = {}'.format(var, val))\n",
    "\n",
    "# Проверка \n",
    "if np.allclose( np.dot(A, X), b ):\n",
    "    print('Решение верно')\n",
    "else:\n",
    "    print('Решение ошибочно')"
   ]
  }
 ],
 "metadata": {
  "kernelspec": {
   "display_name": "Python 3",
   "language": "python",
   "name": "python3"
  },
  "language_info": {
   "codemirror_mode": {
    "name": "ipython",
    "version": 3
   },
   "file_extension": ".py",
   "mimetype": "text/x-python",
   "name": "python",
   "nbconvert_exporter": "python",
   "pygments_lexer": "ipython3",
   "version": "3.7.0"
  }
 },
 "nbformat": 4,
 "nbformat_minor": 2
}
