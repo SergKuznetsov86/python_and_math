{
 "cells": [
  {
   "cell_type": "markdown",
   "metadata": {},
   "source": [
    "# Лабораторная работа\n",
    "### Выполнил: Кузнецов С.И."
   ]
  },
  {
   "cell_type": "markdown",
   "metadata": {},
   "source": [
    "## Списки и строки"
   ]
  },
  {
   "cell_type": "markdown",
   "metadata": {},
   "source": [
    "1. Дан произвольный список, содержащий только числа. Выведите результат сложения всех чисел больше 10."
   ]
  },
  {
   "cell_type": "code",
   "execution_count": 1,
   "metadata": {},
   "outputs": [],
   "source": [
    "import random"
   ]
  },
  {
   "cell_type": "code",
   "execution_count": 2,
   "metadata": {},
   "outputs": [
    {
     "data": {
      "text/plain": [
       "[-25, -27, 4, 73, -59, 34, 32, -15, -48, 43]"
      ]
     },
     "execution_count": 2,
     "metadata": {},
     "output_type": "execute_result"
    }
   ],
   "source": [
    "# Формируем исходный список случайным образом\n",
    "\n",
    "input_list = [random.randint(-100, 100) for i in range(10)]\n",
    "input_list"
   ]
  },
  {
   "cell_type": "code",
   "execution_count": 3,
   "metadata": {},
   "outputs": [
    {
     "name": "stdout",
     "output_type": "stream",
     "text": [
      "Сумма чисел больше 10 равна 182\n"
     ]
    }
   ],
   "source": [
    "elements_more_10 = [i for i in input_list if i > 10]\n",
    "if len(elements_more_10) > 0:\n",
    "    print('Сумма чисел больше 10 равна {}'.format(sum(elements_more_10)))\n",
    "else:\n",
    "    print('В списке нет чисел больше 10.')"
   ]
  },
  {
   "cell_type": "markdown",
   "metadata": {},
   "source": [
    "2. Пусть задан список, содержащий строки. Выведите все строки, заканчивающиеся буквой r."
   ]
  },
  {
   "cell_type": "code",
   "execution_count": 4,
   "metadata": {},
   "outputs": [],
   "source": [
    "# Исходный список\n",
    "list_of_strings = ['123', 'car', 'auto', 'python', 'engineer', 'WORKER', 'mobile']"
   ]
  },
  {
   "cell_type": "code",
   "execution_count": 5,
   "metadata": {},
   "outputs": [
    {
     "data": {
      "text/plain": [
       "['car', 'engineer', 'WORKER']"
      ]
     },
     "execution_count": 5,
     "metadata": {},
     "output_type": "execute_result"
    }
   ],
   "source": [
    "# Строки, содержащие на конце 'r' (в любом регистре)\n",
    "[s for s in list_of_strings if s.lower()[-1] == 'r']"
   ]
  },
  {
   "cell_type": "markdown",
   "metadata": {},
   "source": [
    "3. Сгенерируйте и выведите cлучайную строку размером 6 символов, содержащую только цифры. Строка должна содержать хотя бы одну цифру 3."
   ]
  },
  {
   "cell_type": "code",
   "execution_count": 6,
   "metadata": {},
   "outputs": [
    {
     "name": "stdout",
     "output_type": "stream",
     "text": [
      "Cлучайная строка: 353093\n"
     ]
    }
   ],
   "source": [
    "num_of_pos_3 = random.randint(0, 5)  # номер элемента \"3\" в генерируемой строке\n",
    "\n",
    "random_string = ''\n",
    "for i in range(6):\n",
    "    if i == num_of_pos_3:\n",
    "        random_string += '3'\n",
    "    else:\n",
    "        random_string += str(random.randint(0, 9))\n",
    "\n",
    "print('Cлучайная строка: {}'.format(random_string))        "
   ]
  },
  {
   "cell_type": "markdown",
   "metadata": {},
   "source": [
    "4. Пусть дана строка произвольной длины. Выведите информацию о том, сколько в ней символов и сколько слов."
   ]
  },
  {
   "cell_type": "code",
   "execution_count": 7,
   "metadata": {},
   "outputs": [
    {
     "name": "stdout",
     "output_type": "stream",
     "text": [
      "В исходной строке 71 символ(ов) и 11 слов\n"
     ]
    }
   ],
   "source": [
    "# Исходная строка\n",
    "input_string = 'Берегись козла спереди, лошади сзади, а лихого человека со всех сторон.'\n",
    "\n",
    "num_of_characters = len(input_string)\n",
    "num_of_words = len(input_string.split(' '))\n",
    "\n",
    "print('В исходной строке {} символ(ов) и {} слов'.format(num_of_characters, num_of_words))"
   ]
  },
  {
   "cell_type": "markdown",
   "metadata": {},
   "source": [
    "## Матрицы"
   ]
  },
  {
   "cell_type": "markdown",
   "metadata": {},
   "source": [
    "1. Пусть дана матрица чисел размером NхN. Представьте данную матрицу в виде списка. Выведите результат сложения\n",
    "всех элементов матрицы."
   ]
  },
  {
   "cell_type": "code",
   "execution_count": 8,
   "metadata": {},
   "outputs": [
    {
     "name": "stdout",
     "output_type": "stream",
     "text": [
      "Исходная матрица 5x5:\n",
      "  -35    -21     38     60    -88  \n",
      "  -87     58    -38     -1     82  \n",
      "  -11     94    -24     92     -7  \n",
      "   -4    -48     77    -44      4  \n",
      "   16     50      3     53     82  \n"
     ]
    }
   ],
   "source": [
    "N = 5   # Размерность матрицы\n",
    "\n",
    "# Формируем матрицу случайным образом:\n",
    "matr = [[random.randint(-100, 100) for j in range(N)] for i in range(N)]\n",
    "\n",
    "print('Исходная матрица {0}x{0}:'.format(N))\n",
    "for i in range(len(matr)):\n",
    "    for j in range(len(matr)):\n",
    "        print('{:5}'.format(matr[i][j]), end = '  ')\n",
    "    print()"
   ]
  },
  {
   "cell_type": "code",
   "execution_count": 9,
   "metadata": {},
   "outputs": [
    {
     "name": "stdout",
     "output_type": "stream",
     "text": [
      "Список элементов матрицы:\n"
     ]
    },
    {
     "data": {
      "text/plain": [
       "'-35, -21, 38, 60, -88, -87, 58, -38, -1, 82, -11, 94, -24, 92, -7, -4, -48, 77, -44, 4, 16, 50, 3, 53, 82'"
      ]
     },
     "execution_count": 9,
     "metadata": {},
     "output_type": "execute_result"
    }
   ],
   "source": [
    "# Преобразование матрицы в список:\n",
    "matr_list = list()     # Список элементов матрицы\n",
    "for i in range(len(matr)):\n",
    "    matr_list += matr[i]\n",
    "\n",
    "print('Список элементов матрицы:')\n",
    "', '.join([str(i) for i in matr_list])   "
   ]
  },
  {
   "cell_type": "code",
   "execution_count": 10,
   "metadata": {},
   "outputs": [
    {
     "name": "stdout",
     "output_type": "stream",
     "text": [
      "Сумма элементов матрицы: 301\n"
     ]
    }
   ],
   "source": [
    "# Подсчет суммы элементов\n",
    "print('Сумма элементов матрицы: {}'.format(sum(matr_list)))"
   ]
  },
  {
   "cell_type": "markdown",
   "metadata": {},
   "source": [
    "2. Пусть дана матрица чисел размером NхM. Найти столбец матрицы с максимальной суммой элементов."
   ]
  },
  {
   "cell_type": "code",
   "execution_count": 11,
   "metadata": {},
   "outputs": [
    {
     "name": "stdout",
     "output_type": "stream",
     "text": [
      "Исходная матрица 3x5:\n",
      "   17    -96     35     46     32  \n",
      "  -23    -51    -30     50     40  \n",
      "  -97     70     47    -61     64  \n"
     ]
    }
   ],
   "source": [
    "N, M = 3, 5   # Размерность матрицы\n",
    "\n",
    "# Формируем матрицу случайным образом:\n",
    "matr = [[random.randint(-100, 100) for j in range(M)] for i in range(N)]\n",
    "\n",
    "print('Исходная матрица {}x{}:'.format(N, M))\n",
    "for i in range(len(matr)):\n",
    "    for j in range(len(matr[0])):\n",
    "        print('{:5}'.format(matr[i][j]), end = '  ')\n",
    "    print()"
   ]
  },
  {
   "cell_type": "code",
   "execution_count": 12,
   "metadata": {},
   "outputs": [
    {
     "name": "stdout",
     "output_type": "stream",
     "text": [
      "Столбец с максимальной суммой элементов: 5. Сумма элементов: 136\n"
     ]
    }
   ],
   "source": [
    "# Находим столбец с максимальной суммой элементов\n",
    "max_sum_row, max_sum = None, None\n",
    "\n",
    "for j in range(len(matr[0])):\n",
    "    row_sum = sum([matr[i][j] for i in range(len(matr))])\n",
    "    if not max_sum or max_sum < row_sum:\n",
    "        max_sum = row_sum\n",
    "        max_sum_row = j\n",
    "\n",
    "print('Столбец с максимальной суммой элементов: {}. Сумма элементов: {}'.format(max_sum_row + 1, max_sum))"
   ]
  },
  {
   "cell_type": "markdown",
   "metadata": {},
   "source": [
    "## Работа с динамичными структурами"
   ]
  },
  {
   "cell_type": "markdown",
   "metadata": {},
   "source": [
    "1. Пусть список студентов представлен в виде структуры [[No, ФИО, Возраст,Группа],[No, ФИО, Возраст, Группа],[No, ФИО,\n",
    "Возраст, Группа]]. Преобразуйте список в словарь вида: {No: [ФИО, Возраст, Группа], No:[....], No: [....]}"
   ]
  },
  {
   "cell_type": "code",
   "execution_count": 13,
   "metadata": {},
   "outputs": [
    {
     "data": {
      "text/plain": [
       "[[1, 'Иванов Иван Иванович', 20, 'M-1'],\n",
       " [2, 'Петров Петр Петрович', 25, 'M-2'],\n",
       " [3, 'Сидоров Сидор Сидорович', 23, 'M-1'],\n",
       " [4, 'Кошкин Василий Петрович', 30, 'M-3'],\n",
       " [5, 'Мышкин Петр Васильевич', 22, 'M-2']]"
      ]
     },
     "execution_count": 13,
     "metadata": {},
     "output_type": "execute_result"
    }
   ],
   "source": [
    "# Список студентов\n",
    "students = [[1, 'Иванов Иван Иванович', 20, 'M-1'],\n",
    "            [2, 'Петров Петр Петрович', 25, 'M-2'],\n",
    "            [3, 'Сидоров Сидор Сидорович', 23, 'M-1'],\n",
    "            [4, 'Кошкин Василий Петрович', 30, 'M-3'],\n",
    "            [5, 'Мышкин Петр Васильевич', 22, 'M-2']]\n",
    "students"
   ]
  },
  {
   "cell_type": "code",
   "execution_count": 14,
   "metadata": {},
   "outputs": [
    {
     "data": {
      "text/plain": [
       "{1: ['Иванов Иван Иванович', 20, 'M-1'],\n",
       " 2: ['Петров Петр Петрович', 25, 'M-2'],\n",
       " 3: ['Сидоров Сидор Сидорович', 23, 'M-1'],\n",
       " 4: ['Кошкин Василий Петрович', 30, 'M-3'],\n",
       " 5: ['Мышкин Петр Васильевич', 22, 'M-2']}"
      ]
     },
     "execution_count": 14,
     "metadata": {},
     "output_type": "execute_result"
    }
   ],
   "source": [
    "# Преобразование списка в словарь\n",
    "students_dict = {s[0]: s[1:] for s in students}\n",
    "students_dict"
   ]
  },
  {
   "cell_type": "markdown",
   "metadata": {},
   "source": [
    "2. Добавьте к задаче No6 для словаря возможность (без преобразования словаря обратно в список) изменить группу\n",
    "студента. Поиск по «ФИО» («ФИО» студента и новый номер группы необходимо ввести с клавиатуры)."
   ]
  },
  {
   "cell_type": "code",
   "execution_count": 15,
   "metadata": {},
   "outputs": [],
   "source": [
    "def change_group(stud_dict, fio, new_group):\n",
    "    '''\n",
    "    Изменяет группу студента с ФИО fio на new_group.\n",
    "    Если студента с указанным ФИО нет, выдает предупреждение\n",
    "    '''\n",
    "    \n",
    "    student_is_found = False   # Принимает значение True если студент найден\n",
    "    for k, v in stud_dict.items():\n",
    "        if v[0].lower().strip() == fio.lower().strip():\n",
    "            stud_dict[k][-1] = new_group\n",
    "            student_is_found = True\n",
    "    \n",
    "    # Предупреждение, если студент не был найден        \n",
    "    if not student_is_found:\n",
    "        print('WARNING! Студент с ФИО \"{}\" не найден'.format(fio))\n",
    "    \n",
    "    return None"
   ]
  },
  {
   "cell_type": "code",
   "execution_count": 16,
   "metadata": {},
   "outputs": [
    {
     "data": {
      "text/plain": [
       "{1: ['Иванов Иван Иванович', 20, 'M-1'],\n",
       " 2: ['Петров Петр Петрович', 25, 'M-2'],\n",
       " 3: ['Сидоров Сидор Сидорович', 23, 'М-10'],\n",
       " 4: ['Кошкин Василий Петрович', 30, 'M-3'],\n",
       " 5: ['Мышкин Петр Васильевич', 22, 'M-2']}"
      ]
     },
     "execution_count": 16,
     "metadata": {},
     "output_type": "execute_result"
    }
   ],
   "source": [
    "change_group(stud_dict = students_dict, fio = 'Сидоров Сидор Сидорович', new_group = 'М-10')\n",
    "students_dict"
   ]
  },
  {
   "cell_type": "markdown",
   "metadata": {},
   "source": [
    "3. Добавьте к задаче No6 для словаря возможность (без преобразования словаря обратно в список) изменить возраст\n",
    "студента."
   ]
  },
  {
   "cell_type": "code",
   "execution_count": 17,
   "metadata": {},
   "outputs": [],
   "source": [
    "def change_age(stud_dict, fio, new_age):\n",
    "    '''\n",
    "    Изменяет возраст студента с ФИО fio на new_group.\n",
    "    Если студента с указанным ФИО нет, выдает предупреждение\n",
    "    '''\n",
    "    \n",
    "    student_is_found = False   # Принимает значение True если студент найден\n",
    "    for k, v in stud_dict.items():\n",
    "        if v[0].lower().strip() == fio.lower().strip():\n",
    "            stud_dict[k][1] = new_age\n",
    "            student_is_found = True\n",
    "    \n",
    "    # Предупреждение, если студент не был найден        \n",
    "    if not student_is_found:\n",
    "        print('WARNING! Студент с ФИО \"{}\" не найден'.format(fio))\n",
    "    \n",
    "    return None"
   ]
  },
  {
   "cell_type": "code",
   "execution_count": 18,
   "metadata": {},
   "outputs": [
    {
     "data": {
      "text/plain": [
       "{1: ['Иванов Иван Иванович', 20, 'M-1'],\n",
       " 2: ['Петров Петр Петрович', 25, 'M-2'],\n",
       " 3: ['Сидоров Сидор Сидорович', 23, 'М-10'],\n",
       " 4: ['Кошкин Василий Петрович', 35, 'M-3'],\n",
       " 5: ['Мышкин Петр Васильевич', 22, 'M-2']}"
      ]
     },
     "execution_count": 18,
     "metadata": {},
     "output_type": "execute_result"
    }
   ],
   "source": [
    "change_age(stud_dict = students_dict, fio = 'Кошкин Василий Петрович', new_age = 35)\n",
    "students_dict"
   ]
  }
 ],
 "metadata": {
  "kernelspec": {
   "display_name": "Python 3",
   "language": "python",
   "name": "python3"
  },
  "language_info": {
   "codemirror_mode": {
    "name": "ipython",
    "version": 3
   },
   "file_extension": ".py",
   "mimetype": "text/x-python",
   "name": "python",
   "nbconvert_exporter": "python",
   "pygments_lexer": "ipython3",
   "version": "3.7.0"
  }
 },
 "nbformat": 4,
 "nbformat_minor": 2
}
