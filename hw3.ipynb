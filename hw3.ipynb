{
 "cells": [
  {
   "cell_type": "markdown",
   "metadata": {},
   "source": [
    "# Домашнее задание № 3\n",
    "### Выполнил: Кузнецов С.И."
   ]
  },
  {
   "cell_type": "markdown",
   "metadata": {},
   "source": [
    "# Задание 1\n",
    "Дан список вида:\n",
    "\n",
    "data = [\n",
    "\n",
    "    [13, 25, 23, 34],\n",
    "    \n",
    "    [45, 32, 44, 47],\n",
    "    \n",
    "    [12, 33, 23, 95],\n",
    "    \n",
    "    [13, 53, 34, 35],\n",
    "\n",
    "]\n",
    "\n",
    "Напишите функцию, которая возвращает сумму элементов на диагонали. Т. е. 13+32+23+35."
   ]
  },
  {
   "cell_type": "code",
   "execution_count": 1,
   "metadata": {},
   "outputs": [],
   "source": [
    "def is_number_list(input_list):\n",
    "    \n",
    "    \"\"\"\n",
    "    Проверяет, является ли элемент input_list списком целых или дробных чисел.\n",
    "    Возвращает True, если это так и False в противном случае.\n",
    "    \n",
    "    Примеры:\n",
    "    \n",
    "    is_number_list(1)\n",
    "    # => False\n",
    "    \n",
    "    is_number_list([11])\n",
    "    # => True\n",
    "    \n",
    "    is_number_list([1, 2.1, 3])\n",
    "    # => True\n",
    "    \n",
    "    is_number_list([1, 2.1, '3'])\n",
    "    # => False\n",
    "    \"\"\"\n",
    "    \n",
    "    if type(input_list) == list:\n",
    "        if sum([type(n) != int and type(n) != float for n in input_list]) == 0:\n",
    "            return True\n",
    "    return False\n",
    "\n",
    "def validate_square_matrix(matr):\n",
    "    \"\"\"\n",
    "    Проверяет, является ли аргумент matr квадратной матрицей чисел, т.е. списком,\n",
    "    каждый из элементов которого является списком целых или дробных чисел одинаковой длины,\n",
    "    равной длине исходного списка.\n",
    "    \n",
    "    Возвращает True, если это так и False в противном случае.\n",
    "    \n",
    "    Примеры:\n",
    "    \n",
    "    validate_square_matrix([[1, 2], [3.1, 4]])\n",
    "    # => True\n",
    "    \n",
    "    validate_square_matrix([[1, 2], [3, 4, 5]])\n",
    "    # => False\n",
    "    \n",
    "    validate_square_matrix([[1, 2], [3, '4']])\n",
    "    # => False\n",
    "    \n",
    "    \"\"\"\n",
    "    if type(matr) == list:\n",
    "        length = len(matr)\n",
    "        if sum([len(s) == length and is_number_list(s) for s in matr if type(s) == list]) == length:\n",
    "            return True\n",
    "    return False\n",
    "\n",
    "def trace(matr):\n",
    "    \"\"\"\n",
    "    Возвращает сумму диагональных элементов матрицы matr.\n",
    "    \n",
    "    matr - исходная матрица (обязательный аргумент)\n",
    "    \n",
    "    Если matr не является квадратной матрицей целых или дробных чисел, т.е. списком,\n",
    "    каждый из элементов которого является списком целых или дробных чисел одинаковой длины -\n",
    "    возвращает None\n",
    "    \n",
    "    Примеры:\n",
    "    \n",
    "    trace([[1, 2], [3, 4]])\n",
    "    # => 5\n",
    "    \n",
    "    trace([[1, 2], [3, 4, 5]]) is None\n",
    "    # => True\n",
    "    \"\"\"\n",
    "    if validate_square_matrix(matr):\n",
    "        tr = 0\n",
    "        for i in range(len(matr)):\n",
    "            tr += matr[i][i]\n",
    "        return(tr)\n",
    "    return None"
   ]
  },
  {
   "cell_type": "code",
   "execution_count": 2,
   "metadata": {},
   "outputs": [
    {
     "name": "stdout",
     "output_type": "stream",
     "text": [
      "Сумма диагональных элементов равна 103\n"
     ]
    }
   ],
   "source": [
    "data = [\n",
    "[13, 25, 23, 34],\n",
    "[45, 32, 44, 47],\n",
    "[12, 33, 23, 95],\n",
    "[13, 53, 34, 35],\n",
    "]\n",
    "\n",
    "print('Сумма диагональных элементов равна {}'.format(trace(data)))"
   ]
  },
  {
   "cell_type": "markdown",
   "metadata": {},
   "source": [
    "# Задание 2\n",
    "Дан список чисел, часть из которых имеют строковый тип или содержат буквы. Напишите функцию, которая возвращает сумму квадратов элементов, которые могут быть числами.\n",
    "\n",
    "data = [1, '5', 'abc', 20, '2']"
   ]
  },
  {
   "cell_type": "code",
   "execution_count": 3,
   "metadata": {},
   "outputs": [],
   "source": [
    "def value_is_num(element):\n",
    "    \"\"\"\n",
    "    Проверяет, является ли аргумент element целым или дробным числом.\n",
    "    Возвращает True если это так и False в противном случае.\n",
    "    \n",
    "    Примеры:\n",
    "    \n",
    "    value_is_num(1)\n",
    "    # => True\n",
    "    \n",
    "    value_is_num(1.1)\n",
    "    # => True\n",
    "    \n",
    "    value_is_num([1.1])\n",
    "    # => False\n",
    "    \"\"\"\n",
    "    if type(element) in [int, float]:\n",
    "        return True\n",
    "    return False\n",
    "\n",
    "def sum_of_numbers_squares(values_list):\n",
    "    \"\"\"\n",
    "    Возвращает сумму квадратов элементов списка, которые являются целыми или дробными числами.\n",
    "    \n",
    "    values_list - исходный список.\n",
    "    \n",
    "    Если values_list не содержит чисел - возвращает 0.\n",
    "    Если values_list не является списком - возвращает None.\n",
    "    \n",
    "    Примеры:\n",
    "    sum_of_numbers_squares([1, '2', 3, 0.1])\n",
    "    # => 10.01\n",
    "    \n",
    "    sum_of_numbers_squares(['1', '2', '3', '0.1'])\n",
    "    # => 0\n",
    "    \n",
    "    sum_of_numbers_squares({'1', '2', '3', '0.1'}) is None\n",
    "    # => True\n",
    "    \"\"\"\n",
    "    if type(values_list) == list:\n",
    "        return(sum([v ** 2 for v in values_list if value_is_num(v)]))\n",
    "    return None"
   ]
  },
  {
   "cell_type": "code",
   "execution_count": 4,
   "metadata": {},
   "outputs": [
    {
     "name": "stdout",
     "output_type": "stream",
     "text": [
      "Сумма квадратов элементов списка равна 401\n"
     ]
    }
   ],
   "source": [
    "data = [1, '5', 'abc', 20, '2']\n",
    "\n",
    "print('Сумма квадратов элементов списка равна {}'.format(sum_of_numbers_squares(data)))"
   ]
  },
  {
   "cell_type": "markdown",
   "metadata": {},
   "source": [
    "# Задание 3\n",
    "Напишите функцию, которая возвращает название валюты (поле 'Name') с максимальным значением курса с помощью сервиса https://www.cbr-xml-daily.ru/daily_json.js"
   ]
  },
  {
   "cell_type": "code",
   "execution_count": 5,
   "metadata": {},
   "outputs": [],
   "source": [
    "import requests"
   ]
  },
  {
   "cell_type": "code",
   "execution_count": 6,
   "metadata": {},
   "outputs": [
    {
     "name": "stdout",
     "output_type": "stream",
     "text": [
      "Валюта с максимальным значением курса: \"Китайских юаней\"\n"
     ]
    }
   ],
   "source": [
    "def get_exchange_rates():\n",
    "    \"\"\"\n",
    "    Возвращает ответ сервиса с информацией о валютах в виде:\n",
    "        \n",
    "        {\n",
    "            'AMD': {\n",
    "                'CharCode': 'AMD',\n",
    "                'ID': 'R01060',\n",
    "                'Name': 'Армянских драмов',\n",
    "                'Nominal': 100,\n",
    "                'NumCode': '051',\n",
    "                'Previous': 14.103,\n",
    "                'Value': 14.0879\n",
    "                },\n",
    "            ...\n",
    "        }\n",
    "    \"\"\"\n",
    "    return requests.get('https://www.cbr-xml-daily.ru/daily_json.js').json()['Valute']\n",
    "\n",
    "def get_max_value_valute_name():\n",
    "    \"\"\"\n",
    "    Возвращает название валюты с максимальным значением курса\n",
    "    от сервиса https://www.cbr-xml-daily.ru/daily_json.js\n",
    "    \"\"\"\n",
    "    return sorted([v for v in get_exchange_rates().values()], key = lambda x: x['Value'], reverse = True)[0]['Name']\n",
    "\n",
    "print('Валюта с максимальным значением курса: \"{}\"'.format(get_max_value_valute_name()))\n"
   ]
  },
  {
   "cell_type": "markdown",
   "metadata": {},
   "source": [
    "# Задание 4\n",
    "Последнее упражнение с занятия\n",
    "1. Добавьте в класс еще один формат, который возвращает название валюты (например, 'Евро').\n",
    "\n",
    "2. Добавьте в класс параметр diff (со значениями True или False), который в случае значения True в методах eur и usd будет возвращать не курс валюты, а изменение по сравнению в прошлым значением."
   ]
  },
  {
   "cell_type": "code",
   "execution_count": 7,
   "metadata": {},
   "outputs": [],
   "source": [
    "class Rate:\n",
    "    def __init__(self, format='value', diff=False):\n",
    "        \"\"\"\n",
    "        Добавлен параметр diff, который по умолчанию равен False.\n",
    "        Если format='value', то\n",
    "            при diff = False методы usd() и eur() возвращают курс соответствующей валюты; \n",
    "            при diff = True методы usd() и eur() возвращают не курс, а разницу с предыдущим курсом. \n",
    "        \"\"\"\n",
    "        \n",
    "        self.format = format\n",
    "        self.diff = diff\n",
    "    \n",
    "    def exchange_rates(self):\n",
    "        \"\"\"\n",
    "        Возвращает ответ сервиса с информацией о валютах в виде:\n",
    "        \n",
    "        {\n",
    "            'AMD': {\n",
    "                'CharCode': 'AMD',\n",
    "                'ID': 'R01060',\n",
    "                'Name': 'Армянских драмов',\n",
    "                'Nominal': 100,\n",
    "                'NumCode': '051',\n",
    "                'Previous': 14.103,\n",
    "                'Value': 14.0879\n",
    "                },\n",
    "            ...\n",
    "        }\n",
    "        \"\"\"\n",
    "        r = requests.get('https://www.cbr-xml-daily.ru/daily_json.js')\n",
    "        return r.json()['Valute']\n",
    "    \n",
    "    def make_format(self, currency):\n",
    "        \"\"\"\n",
    "        Возвращает информацию о валюте currency в двух вариантах:\n",
    "        - полная информация о валюте при self.format = 'full':\n",
    "        Rate('full').make_format('EUR')\n",
    "        {\n",
    "            'CharCode': 'EUR',\n",
    "            'ID': 'R01239',\n",
    "            'Name': 'Евро',\n",
    "            'Nominal': 1,\n",
    "            'NumCode': '978',\n",
    "            'Previous': 79.6765,\n",
    "            'Value': 79.4966\n",
    "        }\n",
    "        \n",
    "        Rate('value').make_format('EUR')\n",
    "        79.4966\n",
    "        \"\"\"\n",
    "        response = self.exchange_rates()\n",
    "        \n",
    "        if currency in response:\n",
    "            if self.format == 'full':\n",
    "                return response[currency]\n",
    "            \n",
    "            if self.format == 'value':\n",
    "                # Добавлен параметр diff (см. комментарии к методу __init__())\n",
    "                if self.diff:\n",
    "                    return response[currency]['Value'] - response[currency]['Previous'] # Разница курсов\n",
    "                else:\n",
    "                    return response[currency]['Value']\n",
    "            \n",
    "            # Добавлен формат 'name', при котором методы usd() и eur() возвращают название валюты\n",
    "            if self.format == 'name':\n",
    "                return response[currency]['Name']\n",
    "        \n",
    "        return 'Error'\n",
    "    \n",
    "    def eur(self):\n",
    "        \"\"\"Возвращает курс евро на сегодня в формате self.format\"\"\"\n",
    "        return self.make_format('EUR')\n",
    "    \n",
    "    def usd(self):\n",
    "        \"\"\"Возвращает курс доллара на сегодня в формате self.format\"\"\"\n",
    "        return self.make_format('USD')"
   ]
  },
  {
   "cell_type": "code",
   "execution_count": 8,
   "metadata": {},
   "outputs": [
    {
     "data": {
      "text/plain": [
       "'Евро'"
      ]
     },
     "execution_count": 8,
     "metadata": {},
     "output_type": "execute_result"
    }
   ],
   "source": [
    "# Пример 1: название валюты eur\n",
    "Rate(format='name').eur()"
   ]
  },
  {
   "cell_type": "code",
   "execution_count": 9,
   "metadata": {},
   "outputs": [
    {
     "data": {
      "text/plain": [
       "'Изменение курса доллара равно -0.08$'"
      ]
     },
     "execution_count": 9,
     "metadata": {},
     "output_type": "execute_result"
    }
   ],
   "source": [
    "# Пример 2: Изменение курса доллара\n",
    "'Изменение курса доллара равно {:.2}$'.format(Rate(diff=True).usd())"
   ]
  },
  {
   "cell_type": "markdown",
   "metadata": {},
   "source": [
    "# Задание 5\n",
    "Напишите функцию, возвращающую сумму первых n чисел Фибоначчи"
   ]
  },
  {
   "cell_type": "code",
   "execution_count": 10,
   "metadata": {},
   "outputs": [],
   "source": [
    "def is_natural(n):\n",
    "    \"\"\"\n",
    "    Проверяет, является ли аргумент n натуральным числом.\n",
    "    Если да - возвращает True, если нет - False\n",
    "    \n",
    "    Примеры:\n",
    "    is_natural(1)\n",
    "    # => True\n",
    "    \n",
    "    is_natural(0)\n",
    "    # => False\n",
    "    \n",
    "    is_natural(3.14)\n",
    "    # => False\n",
    "    \"\"\"\n",
    "    if type(n) == int:\n",
    "        if n > 0:\n",
    "            return True\n",
    "    return False\n",
    "\n",
    "def fibonacci(n):\n",
    "    \"\"\"\n",
    "    Возвращает n-е число Фибоначчи:\n",
    "    \n",
    "    fibonacci(1) = 1,\n",
    "    fibonacci(2) = 1,\n",
    "    fibonacci(n) = fibonacci(n - 1) + fibonacci(n - 2) при n > 2\n",
    "    \n",
    "    Если аргумент не является натуральным числом - возвращает None.\n",
    "    \n",
    "    Примеры:\n",
    "    fibonacci_sum(5)\n",
    "    # => 5\n",
    "    \n",
    "    fibonacci_sum(-5) is None\n",
    "    # => True\n",
    "    \"\"\"\n",
    "    if is_natural(n):\n",
    "        if n == 1 or n == 2:\n",
    "            return 1\n",
    "        return fibonacci(n - 1) + fibonacci(n - 2)\n",
    "    return None\n",
    "    \n",
    "def fibonacci_sum(n):\n",
    "    \"\"\"\n",
    "    Возвращает сумму первых n чисел Фибоначчи:\n",
    "    \n",
    "    fibonacci(1) = 1,\n",
    "    fibonacci(2) = 1,\n",
    "    fibonacci(n) = fibonacci(n - 1) + fibonacci(n - 2) при n > 2\n",
    "    \n",
    "    Если аргумент не является натуральным числом - возвращает None.\n",
    "    \n",
    "    Примеры:\n",
    "    fibonacci_sum(5)\n",
    "    # => 12\n",
    "    \n",
    "    fibonacci(-5) is None\n",
    "    # => True\n",
    "    \"\"\"\n",
    "    if is_natural(n):\n",
    "        return sum(map(fibonacci, range(1, n + 1)))    \n",
    "    return None"
   ]
  },
  {
   "cell_type": "code",
   "execution_count": 11,
   "metadata": {},
   "outputs": [
    {
     "name": "stdout",
     "output_type": "stream",
     "text": [
      "Сумма первых 25 чисел Фибоначчи равна 196417\n"
     ]
    }
   ],
   "source": [
    "print('Сумма первых {} чисел Фибоначчи равна {}'.format(25, fibonacci_sum(25)))"
   ]
  },
  {
   "cell_type": "markdown",
   "metadata": {},
   "source": [
    "# Задание 6\n",
    "Напишите функцию, преобразующую произвольный список вида ['2018-01-01', 'yandex', 'cpc', 100] в словарь {'2018-01-01': {'yandex': {'cpc': 100}}}"
   ]
  },
  {
   "cell_type": "code",
   "execution_count": 12,
   "metadata": {},
   "outputs": [],
   "source": [
    "def list_is_valid(input_list):\n",
    "    \"\"\"\n",
    "    Проверяет, является ли аргумент input_list списком, состоящим, как минимум, из двух элементов.\n",
    "    Если является - возвращает True, в противном случае - False.\n",
    "    \n",
    "    Примеры:\n",
    "    \n",
    "    list_is_valid([1, 2, 3])\n",
    "    # => True\n",
    "    \n",
    "    list_is_valid([1])\n",
    "    # => False\n",
    "    \"\"\"\n",
    "    if type(input_list) == list:\n",
    "        if len(input_list) >= 2:\n",
    "            return True\n",
    "    return False\n",
    "\n",
    "def list_to_dict(input_list):\n",
    "    \"\"\"\n",
    "    Преобразует произвольный список вида\n",
    "        [a_1, a_2, ..., a_(n-1), a_n]\n",
    "    в словарь \n",
    "        {a_1: {a_2: ...{a_(n-1): a_n}}}\n",
    "    \n",
    "    input_list - исходный список.\n",
    "    \n",
    "    Если input_list состоит менее, чем из двух элементов, возвращает пустой словарь.\n",
    "    \n",
    "    Примеры:\n",
    "    \n",
    "    list_to_dict(list(range(5)))\n",
    "    # => {0: {1: {2: {3: 4}}}}\n",
    "    \n",
    "    list_to_dict([1])\n",
    "    # => {}\n",
    "    \"\"\"\n",
    "    if list_is_valid(input_list):\n",
    "        if len(input_list) == 2:\n",
    "            return {input_list[0]: input_list[1]}\n",
    "        else:\n",
    "            return {input_list[0]: list_to_dict(input_list[1:])}\n",
    "    return dict()"
   ]
  },
  {
   "cell_type": "code",
   "execution_count": 13,
   "metadata": {},
   "outputs": [
    {
     "data": {
      "text/plain": [
       "{'2018-01-01': {'yandex': {'cpc': 100}}}"
      ]
     },
     "execution_count": 13,
     "metadata": {},
     "output_type": "execute_result"
    }
   ],
   "source": [
    "list_to_dict(['2018-01-01', 'yandex', 'cpc', 100])"
   ]
  }
 ],
 "metadata": {
  "kernelspec": {
   "display_name": "Python 3",
   "language": "python",
   "name": "python3"
  },
  "language_info": {
   "codemirror_mode": {
    "name": "ipython",
    "version": 3
   },
   "file_extension": ".py",
   "mimetype": "text/x-python",
   "name": "python",
   "nbconvert_exporter": "python",
   "pygments_lexer": "ipython3",
   "version": "3.7.0"
  }
 },
 "nbformat": 4,
 "nbformat_minor": 2
}
