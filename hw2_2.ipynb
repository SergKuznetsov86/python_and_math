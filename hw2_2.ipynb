{
 "cells": [
  {
   "cell_type": "markdown",
   "metadata": {},
   "source": [
    "# Домашняя работа №2"
   ]
  },
  {
   "cell_type": "markdown",
   "metadata": {},
   "source": [
    "### Выполнил Кузнецов С.И."
   ]
  },
  {
   "cell_type": "code",
   "execution_count": 1,
   "metadata": {},
   "outputs": [],
   "source": [
    "import pandas as pd\n",
    "from scipy import stats\n",
    "import numpy as np\n",
    "\n",
    "import seaborn as sns\n",
    "from sklearn import datasets\n",
    "from matplotlib import pyplot as plt\n",
    "from statsmodels.distributions.empirical_distribution import ECDF"
   ]
  },
  {
   "cell_type": "markdown",
   "metadata": {},
   "source": [
    "## Генеральная совокупность и выборка"
   ]
  },
  {
   "cell_type": "markdown",
   "metadata": {},
   "source": [
    "- Чем отличается генеральная совокупность от выборки?"
   ]
  },
  {
   "cell_type": "markdown",
   "metadata": {},
   "source": [
    "**Ответ:**\n",
    "\n",
    "Генеральной совокупностью называется совокупность **всех** рассматриваемых объектов.\n",
    "\n",
    "Выборка - это **часть** генеральной совокупности, охватываемая экспериментом.\n",
    "\n",
    "**Пример:** Мы хотим узнать средний рост жителей России.\n",
    "\n",
    "В этом случае:\n",
    "\n",
    "**Генеральная совокупность** - все жители России.\n",
    "\n",
    "**Выборка** - случайно выбранный каждый 10 000й житель из каждого региона России."
   ]
  },
  {
   "cell_type": "markdown",
   "metadata": {},
   "source": [
    "- Если размер выборки больше 200, то такая выборка является репрезентативной?"
   ]
  },
  {
   "cell_type": "markdown",
   "metadata": {},
   "source": [
    "**Ответ:** В общем случае нет. Чтобы выборка была репрезентативной, необходимо чтобы она по своей структуре соответствовала генеральной совокупности.\n",
    "\n",
    "**Пример:** Мы хотм узнать средний рост жителей России, а в качестве выборки возьмем всех баскетболистов из всех баскетбольных команд России. Эта выборка не будет репрезентативной, несмотря на то, что ее размер будет больше 200, т.к. средний рост баскетболистов явно выше среднего роста жителей России."
   ]
  },
  {
   "cell_type": "markdown",
   "metadata": {},
   "source": [
    "- Измерили длину волос футболистов сборной Франции на ЧМ-2018. Что могло являться генеральной совокупностью? Приведите 3 примера."
   ]
  },
  {
   "cell_type": "markdown",
   "metadata": {},
   "source": [
    "**Ответ:** Генеральной совокупностью могла являться:\n",
    "\n",
    "1. Совокупность всех футболистов Франции.\n",
    "\n",
    "2. Совокупность всех футболистов на ЧМ-2018.\n",
    "\n",
    "3. Совокупность всех европейских футболистов, участвующих в чемпионатах мира по футболу в XIX веке."
   ]
  },
  {
   "cell_type": "markdown",
   "metadata": {},
   "source": [
    "- Пусть генеральная совокупность --- вес детей, родившихся в Волгограде за последние 10 лет. Предложите 2 стратегии, как сгенерировать выборку."
   ]
  },
  {
   "cell_type": "markdown",
   "metadata": {},
   "source": [
    "**Ответ:** Примеры выборок:\n",
    "\n",
    "1. Все дети, родившиеся 12 марта каждого года.\n",
    "2. Все дети, родившиеся в мае в роддомах Волгограда, номера которых делятся на 10 без остатка."
   ]
  },
  {
   "cell_type": "markdown",
   "metadata": {},
   "source": [
    "## Параметры центра и разброса"
   ]
  },
  {
   "cell_type": "markdown",
   "metadata": {},
   "source": [
    "- Постройте распределение, у которого отсутствует мода.\n"
   ]
  },
  {
   "cell_type": "code",
   "execution_count": 2,
   "metadata": {},
   "outputs": [],
   "source": [
    "# Распределение, у которой отсутствует мода - равномерное распределение на отрезке [a, b]."
   ]
  },
  {
   "cell_type": "code",
   "execution_count": 3,
   "metadata": {},
   "outputs": [
    {
     "data": {
      "text/plain": [
       "[<matplotlib.lines.Line2D at 0x7f76fdb0bfd0>]"
      ]
     },
     "execution_count": 3,
     "metadata": {},
     "output_type": "execute_result"
    },
    {
     "data": {
      "image/png": "[encoded data removed]",
      "text/plain": [
       "<Figure size 432x288 with 1 Axes>"
      ]
     },
     "metadata": {
      "needs_background": "light"
     },
     "output_type": "display_data"
    }
   ],
   "source": [
    "# Плотность равномерного распределения на отрезке [0, 1]\n",
    "uniform_rv = stats.uniform(0, 1)\n",
    "\n",
    "x = np.linspace(-1, 2, 100)\n",
    "pdf = uniform_rv.pdf(x)\n",
    "plt.plot(x, pdf)"
   ]
  },
  {
   "cell_type": "code",
   "execution_count": 4,
   "metadata": {},
   "outputs": [
    {
     "data": {
      "text/plain": [
       "[<matplotlib.lines.Line2D at 0x7f76fdab25c0>]"
      ]
     },
     "execution_count": 4,
     "metadata": {},
     "output_type": "execute_result"
    },
    {
     "data": {
      "image/png": "[encoded data removed]",
      "text/plain": [
       "<Figure size 432x288 with 1 Axes>"
      ]
     },
     "metadata": {
      "needs_background": "light"
     },
     "output_type": "display_data"
    }
   ],
   "source": [
    "# Функция нормального распределения на отрезке [0, 1]\n",
    "cdf = uniform_rv.cdf(x)\n",
    "plt.plot(x, cdf)"
   ]
  },
  {
   "cell_type": "markdown",
   "metadata": {},
   "source": [
    "- Какая из статистик (медиана, матожидание) будет наиболее неустойчивой при выбросах? Проверить на выборке из Гамма-распределения. "
   ]
  },
  {
   "cell_type": "code",
   "execution_count": 5,
   "metadata": {
    "scrolled": true
   },
   "outputs": [
    {
     "name": "stdout",
     "output_type": "stream",
     "text": [
      "mean = 3.9304, mean_with_overshoot = 16.9896\n",
      "med = 3.5886, med_with_overshoot = 3.6075\n"
     ]
    }
   ],
   "source": [
    "gamma_rv = stats.gamma(3, 1)\n",
    "sample = gamma_rv.rvs(51)\n",
    "med = sorted(sample)[24]\n",
    "mean = sample.mean()\n",
    "\n",
    "#your code here\n",
    "overshoot = np.array([200, 500])  # Выброс\n",
    "sample_with_overshoot = np.hstack((sample, overshoot))  # Объединяем выборки\n",
    "\n",
    "# Рассчитываем статистики\n",
    "new_med = sorted(sample_with_overshoot)[25]\n",
    "new_mean = sample_with_overshoot.mean()\n",
    "\n",
    "# Вывод результатов\n",
    "print('mean = {:.4f}, mean_with_overshoot = {:.4f}'.format(mean, new_mean))\n",
    "print('med = {:.4f}, med_with_overshoot = {:.4f}'.format(med, new_med))"
   ]
  },
  {
   "cell_type": "markdown",
   "metadata": {},
   "source": [
    "**Вывод:** Медиана более устойчива к выбросам, чем среднее"
   ]
  },
  {
   "cell_type": "markdown",
   "metadata": {},
   "source": [
    "- Как изменится матожидание, если к выборке добавить константу $C$? Умножить на $C$. \n",
    "\n",
    "Проверите на выборке из распределения Пуассона"
   ]
  },
  {
   "cell_type": "code",
   "execution_count": 6,
   "metadata": {},
   "outputs": [
    {
     "name": "stdout",
     "output_type": "stream",
     "text": [
      " mean = 1.90\n",
      " mean_with_c = 2.40\n",
      " mean_mult_c = 0.95\n"
     ]
    }
   ],
   "source": [
    "pois_rv = stats.poisson(2)\n",
    "sample = pois_rv.rvs(100)\n",
    "C = 0.5\n",
    "#your code here\n",
    "mean = sample.mean()\n",
    "mean_with_c = (sample + C).mean() \n",
    "mean_mult_c = (sample * C).mean()\n",
    "\n",
    "print(' mean = {:.2f}\\n mean_with_c = {:.2f}\\n mean_mult_c = {:.2f}'.format(mean, mean_with_c, mean_mult_c))"
   ]
  },
  {
   "cell_type": "markdown",
   "metadata": {},
   "source": [
    "**Вывод:**\n",
    "- При добавлении константы к выборке матождание увеличивается на эту константу.\n",
    "- При умножении выборки на константу матожидание умножается на эту константу."
   ]
  },
  {
   "cell_type": "markdown",
   "metadata": {},
   "source": [
    "- Как изменится дисперсия при добавлении выбросов? Проверьте для распределения экспоненциального распределения"
   ]
  },
  {
   "cell_type": "code",
   "execution_count": 7,
   "metadata": {},
   "outputs": [
    {
     "name": "stdout",
     "output_type": "stream",
     "text": [
      "var = 1.0549, var_with_overshoot = 5263.6704\n"
     ]
    }
   ],
   "source": [
    "exp_rv = stats.expon(4)\n",
    "sample = exp_rv.rvs(50)\n",
    "var = sample.var()\n",
    "\n",
    "#your code here\n",
    "overshoot = np.array([200, 500])  # Выброс\n",
    "sample_with_overshoot = np.hstack((sample, overshoot))  # Объединяем выборки\n",
    "new_var = sample_with_overshoot.var() # Новая дисперсия\n",
    "\n",
    "# Вывод результатов\n",
    "print('var = {:.4f}, var_with_overshoot = {:.4f}'.format(var, new_var))"
   ]
  },
  {
   "cell_type": "markdown",
   "metadata": {},
   "source": [
    "**Вывод:** Дисперсия неустойчива к выбросам. Поэтому, при расчете дисперсии необходимо избавляться от выбросов"
   ]
  },
  {
   "cell_type": "markdown",
   "metadata": {},
   "source": [
    "- Что шире: интерквантильный размах ($X_{0.75} - X_{0.25}$) или $(\\bar{X}-s, \\bar{X}+s)$ для $\\mathcal{N}(a, \n",
    "\\sigma^2)$. Посчитайте и сравните эти интервалы для распредения $\\mathcal{N}(3,1)$"
   ]
  },
  {
   "cell_type": "code",
   "execution_count": 8,
   "metadata": {},
   "outputs": [
    {
     "name": "stdout",
     "output_type": "stream",
     "text": [
      " x_75 - x_25 = 1.3814 \n",
      " length((mean - s, mean + s)) = 2.0411\n"
     ]
    }
   ],
   "source": [
    "norm_rv = stats.norm(3,1)\n",
    "sample = norm_rv.rvs(1000)\n",
    "\n",
    "#your code here\n",
    "\n",
    "x_25 = sorted(sample)[249]\n",
    "x_75 = sorted(sample)[749]\n",
    "var = sample.var() ** 0.5\n",
    "\n",
    "print(' x_75 - x_25 = {:.4f} \\n length((mean - s, mean + s)) = {:.4f}'.format(x_75 - x_25, 2 * var))"
   ]
  },
  {
   "cell_type": "markdown",
   "metadata": {},
   "source": [
    "**Вывод:** Для нормального распределения **интервал $(\\bar{X}-s, \\bar{X}+s)$ шире интерквантильного размаха**, так как в интервал $(\\bar{X}-s, \\bar{X}+s)$ попадает 68,27% выборки, а в интерквантильный размах ($X_{0.75} - X_{0.25}$) 50% выборки по определению интерквантильного размаха."
   ]
  },
  {
   "cell_type": "markdown",
   "metadata": {},
   "source": [
    "## Основные статистики и ЦПТ"
   ]
  },
  {
   "cell_type": "markdown",
   "metadata": {},
   "source": [
    "- Что такое статистика? Посчитайте любую для бета-распределения (1,3)"
   ]
  },
  {
   "cell_type": "code",
   "execution_count": 9,
   "metadata": {},
   "outputs": [
    {
     "name": "stdout",
     "output_type": "stream",
     "text": [
      "med = 0.1884\n"
     ]
    }
   ],
   "source": [
    "beta_rv = stats.beta(1,3)\n",
    "\n",
    "# Статистикой называется  измеримая числовая функция от выборки,\n",
    "## не зависящая от неизвестных параметров распределения элементов выборки.\n",
    "\n",
    "# Пример: медиана.\n",
    "# Рассчитаем медиану для выборки из 100 элементов. \n",
    "\n",
    "sample = beta_rv.rvs(100)  # Выборка\n",
    "rank = sorted(sample)\n",
    "med = (rank[49] + rank[50]) / 2\n",
    "print('med = {:.4f}'.format(med))"
   ]
  },
  {
   "cell_type": "markdown",
   "metadata": {},
   "source": [
    "- Какие статистики являются оценками матожидания, медианы и дисперсии? Посчитайте их для гамма-распределения с параметрами (2, 2)"
   ]
  },
  {
   "cell_type": "markdown",
   "metadata": {},
   "source": [
    "**Ответ:** Формулы оценки матожидания, медианы и дисперсии\n",
    "$$\\bar{X} = \\frac 1n \\sum_i X_i $$\n",
    "\n",
    "$$m = \\begin{cases}\n",
    "X_{(n / 2)},\\ n = 2k \\\\\n",
    "\\dfrac{X_{(n / 2)} + X_{(n / 2) + 1}}{2},\\ n = 2k + 1 \\\\\n",
    "\\end{cases}$$\n",
    "\n",
    "$$s^2 = \\frac{1}{n-1} \\sum_i (X_i - \\bar{X})^2 $$"
   ]
  },
  {
   "cell_type": "code",
   "execution_count": 10,
   "metadata": {},
   "outputs": [
    {
     "name": "stdout",
     "output_type": "stream",
     "text": [
      "mean = 3.9309\n",
      "var = 2.1071\n",
      "med = 3.5477\n"
     ]
    }
   ],
   "source": [
    "gamma_rv = stats.gamma(2,2)\n",
    "\n",
    "#your code here\n",
    "sample = gamma_rv.rvs(100)\n",
    "\n",
    "mean = sum([i for i in sample]) / len(sample)\n",
    "var = sum([(i - mean) ** 2 for i in sample]) / (len(sample) - 1)\n",
    "rank = sorted(sample)\n",
    "med = (rank[len(sample) // 2 - 1] + rank[len(sample) // 2]) / 2\n",
    "\n",
    "print('mean = {:.4f}'.format(mean))\n",
    "print('var = {:.4f}'.format(var))\n",
    "print('med = {:.4f}'.format(med))"
   ]
  },
  {
   "cell_type": "markdown",
   "metadata": {},
   "source": [
    "- Какое распределение имеет $\\bar{X}$ по ЦПТ? Если исходное распределение $\\mathcal{N}(5, 2)$. Сгенерировать выборки размером 50 из этого распределения и проверить. (построить распределение средних)"
   ]
  },
  {
   "cell_type": "markdown",
   "metadata": {},
   "source": [
    "**Ответ:** В соответствии с ЦПТ $\\bar{X}$ стремится к нормальному распределению.\n",
    "\n",
    "Математическое ожидание будет стремиться к выборочному среднему:\n",
    "$$\\bar{X} = \\frac 1n \\sum_i X_i $$\n",
    "\n",
    "Дисперсия будет стремиться к выборочной дисперсии:\n",
    "$$s^2 = \\frac{1}{n-1} \\sum_i (X_i - \\bar{X})^2 $$"
   ]
  },
  {
   "cell_type": "code",
   "execution_count": 11,
   "metadata": {},
   "outputs": [
    {
     "data": {
      "text/plain": [
       "[<matplotlib.lines.Line2D at 0x7f76fd9c22e8>]"
      ]
     },
     "execution_count": 11,
     "metadata": {},
     "output_type": "execute_result"
    },
    {
     "data": {
      "image/png": "[encoded data removed]",
      "text/plain": [
       "<Figure size 432x288 with 1 Axes>"
      ]
     },
     "metadata": {
      "needs_background": "light"
     },
     "output_type": "display_data"
    }
   ],
   "source": [
    "#your code here\n",
    "norm_rv = stats.norm(5,2)\n",
    "\n",
    "x_means = list()\n",
    "\n",
    "for i in range(10000):\n",
    "    sample = norm_rv.rvs(50)\n",
    "    x_means.append(sample.mean())\n",
    "    \n",
    "# Оценим параметры распределения:\n",
    "x_means = np.array(x_means)\n",
    "\n",
    "x_means_mean = x_means.mean()  # Мат. ожидание\n",
    "x_means_var = x_means.var()  # Дисперсия\n",
    "\n",
    "x = np.linspace(3, 7, 200)\n",
    "\n",
    "res = plt.hist(x = x_means, density = True, bins = 30)\n",
    "pdf = stats.norm(loc=x_means_mean, scale=x_means_var ** 0.5).pdf(x)\n",
    "plt.plot(x, pdf)\n"
   ]
  },
  {
   "cell_type": "markdown",
   "metadata": {},
   "source": [
    "- Сгенерируйте выборки так, чтобы ЦПТ не выполнялось (распределение средних не было похоже нормальное)"
   ]
  },
  {
   "cell_type": "code",
   "execution_count": 12,
   "metadata": {},
   "outputs": [
    {
     "data": {
      "text/plain": [
       "[<matplotlib.lines.Line2D at 0x7f76fd895160>]"
      ]
     },
     "execution_count": 12,
     "metadata": {},
     "output_type": "execute_result"
    },
    {
     "data": {
      "image/png": "[encoded data removed]",
      "text/plain": [
       "<Figure size 432x288 with 1 Axes>"
      ]
     },
     "metadata": {
      "needs_background": "light"
     },
     "output_type": "display_data"
    }
   ],
   "source": [
    "# ЦПТ выполняется для одинаково распределенных независимых случайных величин.\n",
    "# Пусть в нашем примере случайные величины будут распределены по-разному.\n",
    "\n",
    "x_means = list()\n",
    "\n",
    "for i in range(10000):\n",
    "    norm_rv = stats.norm(0.05 * i, 2) # Случайные величины имеют разное распределение\n",
    "    sample = norm_rv.rvs(50)\n",
    "    x_means.append(sample.mean())\n",
    "    \n",
    "# Оценим параметры распределения:\n",
    "x_means = np.array(x_means)\n",
    "\n",
    "x_means_mean = x_means.mean()  # Мат. ожидание\n",
    "x_means_var = x_means.var()  # Дисперсия\n",
    "\n",
    "x = np.linspace(-10, 600, 200)\n",
    "\n",
    "res = plt.hist(x = x_means, density = True, bins = 30)\n",
    "pdf = stats.norm(loc=x_means_mean, scale=x_means_var ** 0.5).pdf(x)\n",
    "plt.plot(x, pdf)\n"
   ]
  },
  {
   "cell_type": "markdown",
   "metadata": {},
   "source": [
    "- Сделайте z-преобразование для данного распределения и посчитайте новое матожидание и дисперсию "
   ]
  },
  {
   "cell_type": "code",
   "execution_count": 13,
   "metadata": {},
   "outputs": [
    {
     "name": "stdout",
     "output_type": "stream",
     "text": [
      "Матожидание = 3.9831, дисперсия = 0.9466\n",
      "Новое матожидание = 0.0000, новая дисперсия = 1.0000\n"
     ]
    }
   ],
   "source": [
    "expon_rv = stats.expon(3)\n",
    "\n",
    "# Сделаем выборку из 10000 элементов\n",
    "sample = expon_rv.rvs(10000)\n",
    "\n",
    "# Вычислим параметры распределения\n",
    "mean = sample.mean()\n",
    "var = sample.var()\n",
    "print('Матожидание = {:.4f}, дисперсия = {:.4f}'.format(mean, var))\n",
    "\n",
    "sample_z = (sample - mean) / (var ** 0.5)\n",
    "mean_z = sample_z.mean()\n",
    "var_z = sample_z.var()\n",
    "\n",
    "print('Новое матожидание = {:.4f}, новая дисперсия = {:.4f}'.format(mean_z, var_z))"
   ]
  },
  {
   "cell_type": "markdown",
   "metadata": {},
   "source": [
    "## Доверительные интервалы и гипотезы"
   ]
  },
  {
   "cell_type": "markdown",
   "metadata": {},
   "source": [
    "В данных задачах используйте встроенную функцию, позволяющую искать квантили случайной величины **your_rv**.ppf, а также https://gallery.shinyapps.io/dist_calc/ для визуальной картины"
   ]
  },
  {
   "cell_type": "markdown",
   "metadata": {},
   "source": [
    "- Постройте 90% доверительный интервал для среднего значения $\\mathcal{\\chi^2_{10}}$."
   ]
  },
  {
   "cell_type": "code",
   "execution_count": 14,
   "metadata": {},
   "outputs": [
    {
     "name": "stdout",
     "output_type": "stream",
     "text": [
      "Interval: (0, 15.9872)\n"
     ]
    }
   ],
   "source": [
    "#your code here\n",
    "print('Interval: (0, {:.4f})'.format(stats.chi2(10).ppf(.9)))"
   ]
  },
  {
   "cell_type": "markdown",
   "metadata": {},
   "source": [
    "- Постройте ДИ для распределения Стьюдента с df = 15 уровня доверия 90%  и 95%. Какой интервал шире?"
   ]
  },
  {
   "cell_type": "code",
   "execution_count": 15,
   "metadata": {},
   "outputs": [
    {
     "name": "stdout",
     "output_type": "stream",
     "text": [
      "Interval 90%: (-1.7531, 1.7531)\n",
      "Interval 95%: (-2.1314, 2.1314)\n"
     ]
    }
   ],
   "source": [
    "#your code here\n",
    "print('Interval 90%: ({:.4f}, {:.4f})'.\n",
    "      format(stats.nct(nc = 0, df = 15).ppf((1 - .9) / 2), stats.nct(nc = 0, df = 15).ppf((1 + .9) / 2)))\n",
    "print('Interval 95%: ({:.4f}, {:.4f})'.\n",
    "      format(stats.nct(nc = 0, df = 15).ppf((1 - .95) / 2), stats.nct(nc = 0, df = 15).ppf((1 + .95) / 2)))"
   ]
  },
  {
   "cell_type": "markdown",
   "metadata": {},
   "source": [
    "**Ответ:** Интервал с уровнем доверия 95% шире, чем с уровнем доверия 90%"
   ]
  },
  {
   "cell_type": "markdown",
   "metadata": {},
   "source": [
    "- Сгенерируйте 2 выборки с одинаковыми параметрами, отличающиеся в 2 раза по размеру. Постройте 2 90% ДИ. Чем они отличаются? Распределение $\\mathcal{N}(0,2)$ "
   ]
  },
  {
   "cell_type": "code",
   "execution_count": 16,
   "metadata": {},
   "outputs": [
    {
     "name": "stdout",
     "output_type": "stream",
     "text": [
      "Interval 90% n = 50: (-0.6421, 0.3828)\n",
      "Interval 90% n = 100: (-0.1582, 0.4777)\n"
     ]
    }
   ],
   "source": [
    "norm_rv = stats.norm(0, 2)\n",
    "\n",
    "#your code here\n",
    "\n",
    "# Выборка из 50 элементов\n",
    "sample_50 = norm_rv.rvs(50)\n",
    "mean_50 = sample_50.mean()\n",
    "var_50 = sample_50.var()\n",
    "SE_50 = (var_50 / 50) ** 0.5\n",
    "\n",
    "half_int_50 = stats.norm(0, 1).ppf((1 + 0.9) / 2) * SE_50\n",
    "print('Interval 90% n = 50: ({:.4f}, {:.4f})'.\n",
    "      format(mean_50 - half_int_50, mean_50 + half_int_50))\n",
    "\n",
    "\n",
    "# Выборка из 100 элементов\n",
    "sample_100 = norm_rv.rvs(100)\n",
    "mean_100 = sample_100.mean()\n",
    "var_100 = sample_100.var()\n",
    "SE_100 = (var_100 / 100) ** 0.5\n",
    "\n",
    "half_int_100 = stats.norm(0, 1).ppf((1 + 0.9) / 2) * SE_100\n",
    "print('Interval 90% n = 100: ({:.4f}, {:.4f})'.\n",
    "      format(mean_100 - half_int_100, mean_100 + half_int_100))\n"
   ]
  },
  {
   "cell_type": "markdown",
   "metadata": {},
   "source": [
    "**Ответ:** Чем больше выборка, тем уже доверительный интервал, т.к. стандартная ошибка $SE \\sim \\cfrac{1}{\\sqrt{n}}$"
   ]
  },
  {
   "cell_type": "markdown",
   "metadata": {},
   "source": [
    "- Пусть $H_0: M=100$. Мы получили $p = 0,12$ и не смогли отклонить нулевую гипотезу. Однако позже выяснилось, что среднее в генеральной совокупности равняется 114. Ошибку какого рода мы допустили?"
   ]
  },
  {
   "cell_type": "markdown",
   "metadata": {},
   "source": [
    "**Ответ:** Мы совершили ошибку второго рода, т.к. неверно приняли основную гипотезу (сделали ложноотрицательный вывод)."
   ]
  },
  {
   "cell_type": "markdown",
   "metadata": {},
   "source": [
    "#### Какие рассуждения относительно p-value верные?\n",
    "\n",
    "- Елси p уровень значимости равен 0,003, то вероятность того, что верна нулевая гипотеза также равняется  0,003.\n",
    "- Если бы в исследовании мы получили $p=0,9$, это означало бы, что верна нулевая гипотеза.\n",
    "- Чем меньше p уровень значимости, тем хуже гипотеза.\n"
   ]
  },
  {
   "cell_type": "markdown",
   "metadata": {},
   "source": [
    "**Ответ:** \n",
    "- Первое утверждение неверное. Если p = 0.003, то вероятность нашего наблюдения при условии истинности основной гипотезы равно 0,003. \n",
    "- Второе утверждение неверное, т.к. мы при проверке гипотез проверяем вероятность нашего наблюдения при условии, что верна основная гипотеза. Правильно было бы сформулировать так: \"Нет оснований отклонять основную гипотезу на данном этапе\".\n",
    "- Третье утверждение спорное, т.к. непонятно, что значит, одна гипотеза лучше другой. Я бы сформулировал так: \"Чем меньше уровень значимости, тем меньше вероятность нашего наблюдения при условии истинности основной гипотезы\"."
   ]
  },
  {
   "cell_type": "markdown",
   "metadata": {},
   "source": [
    "- Какое $p$-value будете использовать, если отклонять $H_0$ рисковано: $0.05$ или $0.01$? Является ли 99% доверительный интервал хорошей оценкой в общем случае?"
   ]
  },
  {
   "cell_type": "markdown",
   "metadata": {},
   "source": [
    "**Ответ:** Если отклонять основную гипотезу более рискованно, то я бы выбрал меньший уровень значимости, т.е. 0.01.\n",
    "\n",
    "Насчет размера доверительного интервала. Зависит от цены ошибки в контексте конкретной задачи. Если речь идет, например, о новых сильнодействующих лекарственных препаратах, которые могут убить человека при неправильном применении, то и 99.0% мало. Но в большинстве практических задач вполне достаточно 99%."
   ]
  },
  {
   "cell_type": "markdown",
   "metadata": {},
   "source": [
    "## Стьюдент и корреляция"
   ]
  },
  {
   "cell_type": "markdown",
   "metadata": {},
   "source": [
    "- Изобразите графики плотности распределения Стьюдента для нескольких значений df= (5,10, 20, 40) и $\\mathcal{N}(0,1)$. В чем отличия?"
   ]
  },
  {
   "cell_type": "code",
   "execution_count": 17,
   "metadata": {},
   "outputs": [
    {
     "data": {
      "text/plain": [
       "Text(0.5, 0, '$x$')"
      ]
     },
     "execution_count": 17,
     "metadata": {},
     "output_type": "execute_result"
    },
    {
     "data": {
      "image/png": "[encoded data removed]",
      "text/plain": [
       "<Figure size 1080x576 with 1 Axes>"
      ]
     },
     "metadata": {
      "needs_background": "light"
     },
     "output_type": "display_data"
    }
   ],
   "source": [
    "# зададим нормально распределенную случайную величину\n",
    "student_5_rv = stats.nct(nc = 0, df = 5)\n",
    "student_10_rv = stats.nct(nc = 0, df = 10)\n",
    "student_20_rv = stats.nct(nc = 0, df = 20)\n",
    "student_40_rv = stats.nct(nc = 0, df = 40)\n",
    "norm_rv = stats.norm(0, 1)\n",
    "\n",
    "x = np.linspace(-5,5,200)\n",
    "pdf_student_5 = student_5_rv.pdf(x)\n",
    "pdf_student_10 = student_10_rv.pdf(x)\n",
    "pdf_student_20 = student_20_rv.pdf(x)\n",
    "pdf_student_40 = student_40_rv.pdf(x)\n",
    "pdf_norm = norm_rv.pdf(x)\n",
    "\n",
    "plt.figure(figsize=(15,8))\n",
    "plt.plot(x, pdf_student_5)\n",
    "plt.plot(x, pdf_student_10)\n",
    "plt.plot(x, pdf_student_20)\n",
    "plt.plot(x, pdf_student_40)\n",
    "plt.plot(x, pdf_norm)\n",
    "\n",
    "plt.legend(['$t(5)$',  '$t(10)$', '$t(20)$', '$t(40)$', '$\\mathcal{N}(0,1)$'])\n",
    "plt.ylabel('$f(x)$')\n",
    "plt.xlabel('$x$')\n"
   ]
  },
  {
   "cell_type": "markdown",
   "metadata": {},
   "source": [
    "**Выводы:** Чем меньше число степеней свободы, тем \"шире\" и \"ниже\" график функции плотности распределения Стьюдента. С увеличением числа степеней свободы распределение Стьюдента приближаетя к нормальному распределению."
   ]
  },
  {
   "cell_type": "markdown",
   "metadata": {},
   "source": [
    "- Постройте две выборки, чтобы их корреляция была равна -1. Изобразите зависимость на графике."
   ]
  },
  {
   "cell_type": "code",
   "execution_count": 18,
   "metadata": {},
   "outputs": [
    {
     "name": "stdout",
     "output_type": "stream",
     "text": [
      "corr = -1.0\n"
     ]
    },
    {
     "data": {
      "image/png": "[encoded data removed]",
      "text/plain": [
       "<Figure size 432x288 with 1 Axes>"
      ]
     },
     "metadata": {
      "needs_background": "light"
     },
     "output_type": "display_data"
    }
   ],
   "source": [
    "sample1 = stats.norm(0, 5).rvs(20)\n",
    "sample2 = - sample1 * 2 + 1\n",
    "\n",
    "x = np.linspace(0,20,21)\n",
    "\n",
    "plt.plot(sample1, sample2, 'o')\n",
    "\n",
    "plt.ylabel('sample2')\n",
    "plt.xlabel('sample1')\n",
    "\n",
    "print('corr = {}'.format(np.corrcoef(sample1, sample2)[0, 1]))"
   ]
  },
  {
   "cell_type": "markdown",
   "metadata": {},
   "source": [
    "**Вывод:** Из равенства корреляции $\\pm 1$ следует линейная зависимость между случайными величинами. "
   ]
  },
  {
   "cell_type": "markdown",
   "metadata": {},
   "source": [
    "- Постройте две выборки, чтобы их корреляция была равна 0. Изобразите зависимость на графике."
   ]
  },
  {
   "cell_type": "code",
   "execution_count": 19,
   "metadata": {},
   "outputs": [
    {
     "name": "stdout",
     "output_type": "stream",
     "text": [
      "corr = 0.019189278585765527\n"
     ]
    },
    {
     "data": {
      "image/png": "[encoded data removed]",
      "text/plain": [
       "<Figure size 432x288 with 1 Axes>"
      ]
     },
     "metadata": {
      "needs_background": "light"
     },
     "output_type": "display_data"
    }
   ],
   "source": [
    "sample1 = stats.norm(0, 5).rvs(5000)\n",
    "sample2 = sample1 ** 2\n",
    "\n",
    "x = np.linspace(0,20,21)\n",
    "\n",
    "plt.plot(sample1, sample2, 'o')\n",
    "\n",
    "plt.ylabel('sample2')\n",
    "plt.xlabel('sample1')\n",
    "\n",
    "print('corr = {}'.format(np.corrcoef(sample1, sample2)[0, 1]))"
   ]
  },
  {
   "cell_type": "markdown",
   "metadata": {},
   "source": [
    "**Вывод:** Из равенства корреляции 0 **не следует** независимость случайных величин. "
   ]
  },
  {
   "cell_type": "markdown",
   "metadata": {},
   "source": [
    "- Сгенерируйте 2 выборки из $\\mathcal{N}(4,2)$, посчитайте их общий ранг и сумму рангов в каждой выборке."
   ]
  },
  {
   "cell_type": "code",
   "execution_count": 20,
   "metadata": {},
   "outputs": [
    {
     "name": "stdout",
     "output_type": "stream",
     "text": [
      "Ранг первой выборки: 10109, ранг второй выборки: 9791.\n"
     ]
    }
   ],
   "source": [
    "norm_rv = stats.norm(4,2)\n",
    "sample_1 = norm_rv.rvs(100)\n",
    "sample_2 = norm_rv.rvs(100)\n",
    "sample = np.concatenate((sample_1, sample_2))\n",
    "\n",
    "#your code here\n",
    "data = list(enumerate(sorted(list(sample_1) + list(sample_2))))\n",
    "\n",
    "sum_1 = sum_2 = 0\n",
    "for elem in data:\n",
    "    if elem[1] in sample_1:\n",
    "        sum_1 += elem[0]\n",
    "    else:\n",
    "        sum_2 += elem[0]\n",
    "        \n",
    "print('Ранг первой выборки: {}, ранг второй выборки: {}.'.format(sum_1, sum_2))            \n"
   ]
  }
 ],
 "metadata": {
  "kernelspec": {
   "display_name": "Python 3",
   "language": "python",
   "name": "python3"
  },
  "language_info": {
   "codemirror_mode": {
    "name": "ipython",
    "version": 3
   },
   "file_extension": ".py",
   "mimetype": "text/x-python",
   "name": "python",
   "nbconvert_exporter": "python",
   "pygments_lexer": "ipython3",
   "version": "3.7.1"
  }
 },
 "nbformat": 4,
 "nbformat_minor": 2
}
